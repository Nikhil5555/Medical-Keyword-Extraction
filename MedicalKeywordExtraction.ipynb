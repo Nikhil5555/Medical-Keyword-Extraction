{
  "nbformat": 4,
  "nbformat_minor": 0,
  "metadata": {
    "colab": {
      "provenance": [],
      "gpuType": "T4"
    },
    "kernelspec": {
      "name": "python3",
      "display_name": "Python 3"
    },
    "language_info": {
      "name": "python"
    },
    "accelerator": "GPU"
  },
  "cells": [
    {
      "cell_type": "code",
      "execution_count": 1,
      "metadata": {
        "id": "5gTzpc_8UKhj"
      },
      "outputs": [],
      "source": [
        "import numpy as np\n",
        "import pandas as pd\n",
        "import string\n",
        "import ast\n",
        "import torch\n",
        "from torch.optim import Adam\n",
        "from torch.utils.data import Dataset, DataLoader"
      ]
    },
    {
      "cell_type": "code",
      "source": [
        "from sklearn.feature_extraction.text import TfidfVectorizer\n",
        "from sklearn.preprocessing import MultiLabelBinarizer\n",
        "from sklearn.model_selection import train_test_split\n",
        "\n",
        "from sklearn.linear_model import SGDClassifier\n",
        "from sklearn.linear_model import LogisticRegression\n",
        "from sklearn.svm import LinearSVC\n",
        "\n",
        "from sklearn.multiclass import OneVsRestClassifier"
      ],
      "metadata": {
        "id": "9t6q24MCxY-D"
      },
      "execution_count": 2,
      "outputs": []
    },
    {
      "cell_type": "code",
      "source": [
        "df = pd.read_csv(\"mtsamples.csv\")\n",
        "df.head()"
      ],
      "metadata": {
        "colab": {
          "base_uri": "https://localhost:8080/",
          "height": 449
        },
        "id": "VANhg6_BUioP",
        "outputId": "dd6df158-a195-4ded-8d24-aaaa7557e1a1"
      },
      "execution_count": 3,
      "outputs": [
        {
          "output_type": "execute_result",
          "data": {
            "text/plain": [
              "   Unnamed: 0                                        description  \\\n",
              "0           0   A 23-year-old white female presents with comp...   \n",
              "1           1           Consult for laparoscopic gastric bypass.   \n",
              "2           2           Consult for laparoscopic gastric bypass.   \n",
              "3           3                             2-D M-Mode. Doppler.     \n",
              "4           4                                 2-D Echocardiogram   \n",
              "\n",
              "             medical_specialty                                sample_name  \\\n",
              "0         Allergy / Immunology                         Allergic Rhinitis    \n",
              "1                   Bariatrics   Laparoscopic Gastric Bypass Consult - 2    \n",
              "2                   Bariatrics   Laparoscopic Gastric Bypass Consult - 1    \n",
              "3   Cardiovascular / Pulmonary                    2-D Echocardiogram - 1    \n",
              "4   Cardiovascular / Pulmonary                    2-D Echocardiogram - 2    \n",
              "\n",
              "                                       transcription  \\\n",
              "0  SUBJECTIVE:,  This 23-year-old white female pr...   \n",
              "1  PAST MEDICAL HISTORY:, He has difficulty climb...   \n",
              "2  HISTORY OF PRESENT ILLNESS: , I have seen ABC ...   \n",
              "3  2-D M-MODE: , ,1.  Left atrial enlargement wit...   \n",
              "4  1.  The left ventricular cavity size and wall ...   \n",
              "\n",
              "                                            keywords  \n",
              "0  allergy / immunology, allergic rhinitis, aller...  \n",
              "1  bariatrics, laparoscopic gastric bypass, weigh...  \n",
              "2  bariatrics, laparoscopic gastric bypass, heart...  \n",
              "3  cardiovascular / pulmonary, 2-d m-mode, dopple...  \n",
              "4  cardiovascular / pulmonary, 2-d, doppler, echo...  "
            ],
            "text/html": [
              "\n",
              "  <div id=\"df-d1adf834-b2f8-43a7-a1df-3cadeb784f6f\" class=\"colab-df-container\">\n",
              "    <div>\n",
              "<style scoped>\n",
              "    .dataframe tbody tr th:only-of-type {\n",
              "        vertical-align: middle;\n",
              "    }\n",
              "\n",
              "    .dataframe tbody tr th {\n",
              "        vertical-align: top;\n",
              "    }\n",
              "\n",
              "    .dataframe thead th {\n",
              "        text-align: right;\n",
              "    }\n",
              "</style>\n",
              "<table border=\"1\" class=\"dataframe\">\n",
              "  <thead>\n",
              "    <tr style=\"text-align: right;\">\n",
              "      <th></th>\n",
              "      <th>Unnamed: 0</th>\n",
              "      <th>description</th>\n",
              "      <th>medical_specialty</th>\n",
              "      <th>sample_name</th>\n",
              "      <th>transcription</th>\n",
              "      <th>keywords</th>\n",
              "    </tr>\n",
              "  </thead>\n",
              "  <tbody>\n",
              "    <tr>\n",
              "      <th>0</th>\n",
              "      <td>0</td>\n",
              "      <td>A 23-year-old white female presents with comp...</td>\n",
              "      <td>Allergy / Immunology</td>\n",
              "      <td>Allergic Rhinitis</td>\n",
              "      <td>SUBJECTIVE:,  This 23-year-old white female pr...</td>\n",
              "      <td>allergy / immunology, allergic rhinitis, aller...</td>\n",
              "    </tr>\n",
              "    <tr>\n",
              "      <th>1</th>\n",
              "      <td>1</td>\n",
              "      <td>Consult for laparoscopic gastric bypass.</td>\n",
              "      <td>Bariatrics</td>\n",
              "      <td>Laparoscopic Gastric Bypass Consult - 2</td>\n",
              "      <td>PAST MEDICAL HISTORY:, He has difficulty climb...</td>\n",
              "      <td>bariatrics, laparoscopic gastric bypass, weigh...</td>\n",
              "    </tr>\n",
              "    <tr>\n",
              "      <th>2</th>\n",
              "      <td>2</td>\n",
              "      <td>Consult for laparoscopic gastric bypass.</td>\n",
              "      <td>Bariatrics</td>\n",
              "      <td>Laparoscopic Gastric Bypass Consult - 1</td>\n",
              "      <td>HISTORY OF PRESENT ILLNESS: , I have seen ABC ...</td>\n",
              "      <td>bariatrics, laparoscopic gastric bypass, heart...</td>\n",
              "    </tr>\n",
              "    <tr>\n",
              "      <th>3</th>\n",
              "      <td>3</td>\n",
              "      <td>2-D M-Mode. Doppler.</td>\n",
              "      <td>Cardiovascular / Pulmonary</td>\n",
              "      <td>2-D Echocardiogram - 1</td>\n",
              "      <td>2-D M-MODE: , ,1.  Left atrial enlargement wit...</td>\n",
              "      <td>cardiovascular / pulmonary, 2-d m-mode, dopple...</td>\n",
              "    </tr>\n",
              "    <tr>\n",
              "      <th>4</th>\n",
              "      <td>4</td>\n",
              "      <td>2-D Echocardiogram</td>\n",
              "      <td>Cardiovascular / Pulmonary</td>\n",
              "      <td>2-D Echocardiogram - 2</td>\n",
              "      <td>1.  The left ventricular cavity size and wall ...</td>\n",
              "      <td>cardiovascular / pulmonary, 2-d, doppler, echo...</td>\n",
              "    </tr>\n",
              "  </tbody>\n",
              "</table>\n",
              "</div>\n",
              "    <div class=\"colab-df-buttons\">\n",
              "\n",
              "  <div class=\"colab-df-container\">\n",
              "    <button class=\"colab-df-convert\" onclick=\"convertToInteractive('df-d1adf834-b2f8-43a7-a1df-3cadeb784f6f')\"\n",
              "            title=\"Convert this dataframe to an interactive table.\"\n",
              "            style=\"display:none;\">\n",
              "\n",
              "  <svg xmlns=\"http://www.w3.org/2000/svg\" height=\"24px\" viewBox=\"0 -960 960 960\">\n",
              "    <path d=\"M120-120v-720h720v720H120Zm60-500h600v-160H180v160Zm220 220h160v-160H400v160Zm0 220h160v-160H400v160ZM180-400h160v-160H180v160Zm440 0h160v-160H620v160ZM180-180h160v-160H180v160Zm440 0h160v-160H620v160Z\"/>\n",
              "  </svg>\n",
              "    </button>\n",
              "\n",
              "  <style>\n",
              "    .colab-df-container {\n",
              "      display:flex;\n",
              "      gap: 12px;\n",
              "    }\n",
              "\n",
              "    .colab-df-convert {\n",
              "      background-color: #E8F0FE;\n",
              "      border: none;\n",
              "      border-radius: 50%;\n",
              "      cursor: pointer;\n",
              "      display: none;\n",
              "      fill: #1967D2;\n",
              "      height: 32px;\n",
              "      padding: 0 0 0 0;\n",
              "      width: 32px;\n",
              "    }\n",
              "\n",
              "    .colab-df-convert:hover {\n",
              "      background-color: #E2EBFA;\n",
              "      box-shadow: 0px 1px 2px rgba(60, 64, 67, 0.3), 0px 1px 3px 1px rgba(60, 64, 67, 0.15);\n",
              "      fill: #174EA6;\n",
              "    }\n",
              "\n",
              "    .colab-df-buttons div {\n",
              "      margin-bottom: 4px;\n",
              "    }\n",
              "\n",
              "    [theme=dark] .colab-df-convert {\n",
              "      background-color: #3B4455;\n",
              "      fill: #D2E3FC;\n",
              "    }\n",
              "\n",
              "    [theme=dark] .colab-df-convert:hover {\n",
              "      background-color: #434B5C;\n",
              "      box-shadow: 0px 1px 3px 1px rgba(0, 0, 0, 0.15);\n",
              "      filter: drop-shadow(0px 1px 2px rgba(0, 0, 0, 0.3));\n",
              "      fill: #FFFFFF;\n",
              "    }\n",
              "  </style>\n",
              "\n",
              "    <script>\n",
              "      const buttonEl =\n",
              "        document.querySelector('#df-d1adf834-b2f8-43a7-a1df-3cadeb784f6f button.colab-df-convert');\n",
              "      buttonEl.style.display =\n",
              "        google.colab.kernel.accessAllowed ? 'block' : 'none';\n",
              "\n",
              "      async function convertToInteractive(key) {\n",
              "        const element = document.querySelector('#df-d1adf834-b2f8-43a7-a1df-3cadeb784f6f');\n",
              "        const dataTable =\n",
              "          await google.colab.kernel.invokeFunction('convertToInteractive',\n",
              "                                                    [key], {});\n",
              "        if (!dataTable) return;\n",
              "\n",
              "        const docLinkHtml = 'Like what you see? Visit the ' +\n",
              "          '<a target=\"_blank\" href=https://colab.research.google.com/notebooks/data_table.ipynb>data table notebook</a>'\n",
              "          + ' to learn more about interactive tables.';\n",
              "        element.innerHTML = '';\n",
              "        dataTable['output_type'] = 'display_data';\n",
              "        await google.colab.output.renderOutput(dataTable, element);\n",
              "        const docLink = document.createElement('div');\n",
              "        docLink.innerHTML = docLinkHtml;\n",
              "        element.appendChild(docLink);\n",
              "      }\n",
              "    </script>\n",
              "  </div>\n",
              "\n",
              "\n",
              "<div id=\"df-1ebe14b6-b09d-4bda-a5d5-05c2e16e62c9\">\n",
              "  <button class=\"colab-df-quickchart\" onclick=\"quickchart('df-1ebe14b6-b09d-4bda-a5d5-05c2e16e62c9')\"\n",
              "            title=\"Suggest charts\"\n",
              "            style=\"display:none;\">\n",
              "\n",
              "<svg xmlns=\"http://www.w3.org/2000/svg\" height=\"24px\"viewBox=\"0 0 24 24\"\n",
              "     width=\"24px\">\n",
              "    <g>\n",
              "        <path d=\"M19 3H5c-1.1 0-2 .9-2 2v14c0 1.1.9 2 2 2h14c1.1 0 2-.9 2-2V5c0-1.1-.9-2-2-2zM9 17H7v-7h2v7zm4 0h-2V7h2v10zm4 0h-2v-4h2v4z\"/>\n",
              "    </g>\n",
              "</svg>\n",
              "  </button>\n",
              "\n",
              "<style>\n",
              "  .colab-df-quickchart {\n",
              "      --bg-color: #E8F0FE;\n",
              "      --fill-color: #1967D2;\n",
              "      --hover-bg-color: #E2EBFA;\n",
              "      --hover-fill-color: #174EA6;\n",
              "      --disabled-fill-color: #AAA;\n",
              "      --disabled-bg-color: #DDD;\n",
              "  }\n",
              "\n",
              "  [theme=dark] .colab-df-quickchart {\n",
              "      --bg-color: #3B4455;\n",
              "      --fill-color: #D2E3FC;\n",
              "      --hover-bg-color: #434B5C;\n",
              "      --hover-fill-color: #FFFFFF;\n",
              "      --disabled-bg-color: #3B4455;\n",
              "      --disabled-fill-color: #666;\n",
              "  }\n",
              "\n",
              "  .colab-df-quickchart {\n",
              "    background-color: var(--bg-color);\n",
              "    border: none;\n",
              "    border-radius: 50%;\n",
              "    cursor: pointer;\n",
              "    display: none;\n",
              "    fill: var(--fill-color);\n",
              "    height: 32px;\n",
              "    padding: 0;\n",
              "    width: 32px;\n",
              "  }\n",
              "\n",
              "  .colab-df-quickchart:hover {\n",
              "    background-color: var(--hover-bg-color);\n",
              "    box-shadow: 0 1px 2px rgba(60, 64, 67, 0.3), 0 1px 3px 1px rgba(60, 64, 67, 0.15);\n",
              "    fill: var(--button-hover-fill-color);\n",
              "  }\n",
              "\n",
              "  .colab-df-quickchart-complete:disabled,\n",
              "  .colab-df-quickchart-complete:disabled:hover {\n",
              "    background-color: var(--disabled-bg-color);\n",
              "    fill: var(--disabled-fill-color);\n",
              "    box-shadow: none;\n",
              "  }\n",
              "\n",
              "  .colab-df-spinner {\n",
              "    border: 2px solid var(--fill-color);\n",
              "    border-color: transparent;\n",
              "    border-bottom-color: var(--fill-color);\n",
              "    animation:\n",
              "      spin 1s steps(1) infinite;\n",
              "  }\n",
              "\n",
              "  @keyframes spin {\n",
              "    0% {\n",
              "      border-color: transparent;\n",
              "      border-bottom-color: var(--fill-color);\n",
              "      border-left-color: var(--fill-color);\n",
              "    }\n",
              "    20% {\n",
              "      border-color: transparent;\n",
              "      border-left-color: var(--fill-color);\n",
              "      border-top-color: var(--fill-color);\n",
              "    }\n",
              "    30% {\n",
              "      border-color: transparent;\n",
              "      border-left-color: var(--fill-color);\n",
              "      border-top-color: var(--fill-color);\n",
              "      border-right-color: var(--fill-color);\n",
              "    }\n",
              "    40% {\n",
              "      border-color: transparent;\n",
              "      border-right-color: var(--fill-color);\n",
              "      border-top-color: var(--fill-color);\n",
              "    }\n",
              "    60% {\n",
              "      border-color: transparent;\n",
              "      border-right-color: var(--fill-color);\n",
              "    }\n",
              "    80% {\n",
              "      border-color: transparent;\n",
              "      border-right-color: var(--fill-color);\n",
              "      border-bottom-color: var(--fill-color);\n",
              "    }\n",
              "    90% {\n",
              "      border-color: transparent;\n",
              "      border-bottom-color: var(--fill-color);\n",
              "    }\n",
              "  }\n",
              "</style>\n",
              "\n",
              "  <script>\n",
              "    async function quickchart(key) {\n",
              "      const quickchartButtonEl =\n",
              "        document.querySelector('#' + key + ' button');\n",
              "      quickchartButtonEl.disabled = true;  // To prevent multiple clicks.\n",
              "      quickchartButtonEl.classList.add('colab-df-spinner');\n",
              "      try {\n",
              "        const charts = await google.colab.kernel.invokeFunction(\n",
              "            'suggestCharts', [key], {});\n",
              "      } catch (error) {\n",
              "        console.error('Error during call to suggestCharts:', error);\n",
              "      }\n",
              "      quickchartButtonEl.classList.remove('colab-df-spinner');\n",
              "      quickchartButtonEl.classList.add('colab-df-quickchart-complete');\n",
              "    }\n",
              "    (() => {\n",
              "      let quickchartButtonEl =\n",
              "        document.querySelector('#df-1ebe14b6-b09d-4bda-a5d5-05c2e16e62c9 button');\n",
              "      quickchartButtonEl.style.display =\n",
              "        google.colab.kernel.accessAllowed ? 'block' : 'none';\n",
              "    })();\n",
              "  </script>\n",
              "</div>\n",
              "\n",
              "    </div>\n",
              "  </div>\n"
            ]
          },
          "metadata": {},
          "execution_count": 3
        }
      ]
    },
    {
      "cell_type": "code",
      "source": [
        "df = df.loc[:,[\"transcription\", \"keywords\"]]"
      ],
      "metadata": {
        "id": "HCYj4CxuOHhn"
      },
      "execution_count": 4,
      "outputs": []
    },
    {
      "cell_type": "code",
      "source": [
        "df.info()"
      ],
      "metadata": {
        "colab": {
          "base_uri": "https://localhost:8080/"
        },
        "id": "3UdNCHeaBGR4",
        "outputId": "d4a9d8ff-93fb-460f-f32f-13442fee6cda"
      },
      "execution_count": 6,
      "outputs": [
        {
          "output_type": "stream",
          "name": "stdout",
          "text": [
            "<class 'pandas.core.frame.DataFrame'>\n",
            "RangeIndex: 4999 entries, 0 to 4998\n",
            "Data columns (total 2 columns):\n",
            " #   Column         Non-Null Count  Dtype \n",
            "---  ------         --------------  ----- \n",
            " 0   transcription  4966 non-null   object\n",
            " 1   keywords       3931 non-null   object\n",
            "dtypes: object(2)\n",
            "memory usage: 78.2+ KB\n"
          ]
        }
      ]
    },
    {
      "cell_type": "code",
      "source": [
        "df.describe()"
      ],
      "metadata": {
        "colab": {
          "base_uri": "https://localhost:8080/",
          "height": 174
        },
        "id": "oj_K1w5MBQPW",
        "outputId": "06d71eda-e773-48ba-cf61-b450a7c061d4"
      },
      "execution_count": 7,
      "outputs": [
        {
          "output_type": "execute_result",
          "data": {
            "text/plain": [
              "                                            transcription keywords\n",
              "count                                                4966     3931\n",
              "unique                                               2357     3849\n",
              "top     PREOPERATIVE DIAGNOSIS: , Low back pain.,POSTO...         \n",
              "freq                                                    5       81"
            ],
            "text/html": [
              "\n",
              "  <div id=\"df-d9a1f0c1-951d-44c4-b177-14a1737dfef2\" class=\"colab-df-container\">\n",
              "    <div>\n",
              "<style scoped>\n",
              "    .dataframe tbody tr th:only-of-type {\n",
              "        vertical-align: middle;\n",
              "    }\n",
              "\n",
              "    .dataframe tbody tr th {\n",
              "        vertical-align: top;\n",
              "    }\n",
              "\n",
              "    .dataframe thead th {\n",
              "        text-align: right;\n",
              "    }\n",
              "</style>\n",
              "<table border=\"1\" class=\"dataframe\">\n",
              "  <thead>\n",
              "    <tr style=\"text-align: right;\">\n",
              "      <th></th>\n",
              "      <th>transcription</th>\n",
              "      <th>keywords</th>\n",
              "    </tr>\n",
              "  </thead>\n",
              "  <tbody>\n",
              "    <tr>\n",
              "      <th>count</th>\n",
              "      <td>4966</td>\n",
              "      <td>3931</td>\n",
              "    </tr>\n",
              "    <tr>\n",
              "      <th>unique</th>\n",
              "      <td>2357</td>\n",
              "      <td>3849</td>\n",
              "    </tr>\n",
              "    <tr>\n",
              "      <th>top</th>\n",
              "      <td>PREOPERATIVE DIAGNOSIS: , Low back pain.,POSTO...</td>\n",
              "      <td></td>\n",
              "    </tr>\n",
              "    <tr>\n",
              "      <th>freq</th>\n",
              "      <td>5</td>\n",
              "      <td>81</td>\n",
              "    </tr>\n",
              "  </tbody>\n",
              "</table>\n",
              "</div>\n",
              "    <div class=\"colab-df-buttons\">\n",
              "\n",
              "  <div class=\"colab-df-container\">\n",
              "    <button class=\"colab-df-convert\" onclick=\"convertToInteractive('df-d9a1f0c1-951d-44c4-b177-14a1737dfef2')\"\n",
              "            title=\"Convert this dataframe to an interactive table.\"\n",
              "            style=\"display:none;\">\n",
              "\n",
              "  <svg xmlns=\"http://www.w3.org/2000/svg\" height=\"24px\" viewBox=\"0 -960 960 960\">\n",
              "    <path d=\"M120-120v-720h720v720H120Zm60-500h600v-160H180v160Zm220 220h160v-160H400v160Zm0 220h160v-160H400v160ZM180-400h160v-160H180v160Zm440 0h160v-160H620v160ZM180-180h160v-160H180v160Zm440 0h160v-160H620v160Z\"/>\n",
              "  </svg>\n",
              "    </button>\n",
              "\n",
              "  <style>\n",
              "    .colab-df-container {\n",
              "      display:flex;\n",
              "      gap: 12px;\n",
              "    }\n",
              "\n",
              "    .colab-df-convert {\n",
              "      background-color: #E8F0FE;\n",
              "      border: none;\n",
              "      border-radius: 50%;\n",
              "      cursor: pointer;\n",
              "      display: none;\n",
              "      fill: #1967D2;\n",
              "      height: 32px;\n",
              "      padding: 0 0 0 0;\n",
              "      width: 32px;\n",
              "    }\n",
              "\n",
              "    .colab-df-convert:hover {\n",
              "      background-color: #E2EBFA;\n",
              "      box-shadow: 0px 1px 2px rgba(60, 64, 67, 0.3), 0px 1px 3px 1px rgba(60, 64, 67, 0.15);\n",
              "      fill: #174EA6;\n",
              "    }\n",
              "\n",
              "    .colab-df-buttons div {\n",
              "      margin-bottom: 4px;\n",
              "    }\n",
              "\n",
              "    [theme=dark] .colab-df-convert {\n",
              "      background-color: #3B4455;\n",
              "      fill: #D2E3FC;\n",
              "    }\n",
              "\n",
              "    [theme=dark] .colab-df-convert:hover {\n",
              "      background-color: #434B5C;\n",
              "      box-shadow: 0px 1px 3px 1px rgba(0, 0, 0, 0.15);\n",
              "      filter: drop-shadow(0px 1px 2px rgba(0, 0, 0, 0.3));\n",
              "      fill: #FFFFFF;\n",
              "    }\n",
              "  </style>\n",
              "\n",
              "    <script>\n",
              "      const buttonEl =\n",
              "        document.querySelector('#df-d9a1f0c1-951d-44c4-b177-14a1737dfef2 button.colab-df-convert');\n",
              "      buttonEl.style.display =\n",
              "        google.colab.kernel.accessAllowed ? 'block' : 'none';\n",
              "\n",
              "      async function convertToInteractive(key) {\n",
              "        const element = document.querySelector('#df-d9a1f0c1-951d-44c4-b177-14a1737dfef2');\n",
              "        const dataTable =\n",
              "          await google.colab.kernel.invokeFunction('convertToInteractive',\n",
              "                                                    [key], {});\n",
              "        if (!dataTable) return;\n",
              "\n",
              "        const docLinkHtml = 'Like what you see? Visit the ' +\n",
              "          '<a target=\"_blank\" href=https://colab.research.google.com/notebooks/data_table.ipynb>data table notebook</a>'\n",
              "          + ' to learn more about interactive tables.';\n",
              "        element.innerHTML = '';\n",
              "        dataTable['output_type'] = 'display_data';\n",
              "        await google.colab.output.renderOutput(dataTable, element);\n",
              "        const docLink = document.createElement('div');\n",
              "        docLink.innerHTML = docLinkHtml;\n",
              "        element.appendChild(docLink);\n",
              "      }\n",
              "    </script>\n",
              "  </div>\n",
              "\n",
              "\n",
              "<div id=\"df-0ff51318-46ad-4c94-b575-424e8a772768\">\n",
              "  <button class=\"colab-df-quickchart\" onclick=\"quickchart('df-0ff51318-46ad-4c94-b575-424e8a772768')\"\n",
              "            title=\"Suggest charts\"\n",
              "            style=\"display:none;\">\n",
              "\n",
              "<svg xmlns=\"http://www.w3.org/2000/svg\" height=\"24px\"viewBox=\"0 0 24 24\"\n",
              "     width=\"24px\">\n",
              "    <g>\n",
              "        <path d=\"M19 3H5c-1.1 0-2 .9-2 2v14c0 1.1.9 2 2 2h14c1.1 0 2-.9 2-2V5c0-1.1-.9-2-2-2zM9 17H7v-7h2v7zm4 0h-2V7h2v10zm4 0h-2v-4h2v4z\"/>\n",
              "    </g>\n",
              "</svg>\n",
              "  </button>\n",
              "\n",
              "<style>\n",
              "  .colab-df-quickchart {\n",
              "      --bg-color: #E8F0FE;\n",
              "      --fill-color: #1967D2;\n",
              "      --hover-bg-color: #E2EBFA;\n",
              "      --hover-fill-color: #174EA6;\n",
              "      --disabled-fill-color: #AAA;\n",
              "      --disabled-bg-color: #DDD;\n",
              "  }\n",
              "\n",
              "  [theme=dark] .colab-df-quickchart {\n",
              "      --bg-color: #3B4455;\n",
              "      --fill-color: #D2E3FC;\n",
              "      --hover-bg-color: #434B5C;\n",
              "      --hover-fill-color: #FFFFFF;\n",
              "      --disabled-bg-color: #3B4455;\n",
              "      --disabled-fill-color: #666;\n",
              "  }\n",
              "\n",
              "  .colab-df-quickchart {\n",
              "    background-color: var(--bg-color);\n",
              "    border: none;\n",
              "    border-radius: 50%;\n",
              "    cursor: pointer;\n",
              "    display: none;\n",
              "    fill: var(--fill-color);\n",
              "    height: 32px;\n",
              "    padding: 0;\n",
              "    width: 32px;\n",
              "  }\n",
              "\n",
              "  .colab-df-quickchart:hover {\n",
              "    background-color: var(--hover-bg-color);\n",
              "    box-shadow: 0 1px 2px rgba(60, 64, 67, 0.3), 0 1px 3px 1px rgba(60, 64, 67, 0.15);\n",
              "    fill: var(--button-hover-fill-color);\n",
              "  }\n",
              "\n",
              "  .colab-df-quickchart-complete:disabled,\n",
              "  .colab-df-quickchart-complete:disabled:hover {\n",
              "    background-color: var(--disabled-bg-color);\n",
              "    fill: var(--disabled-fill-color);\n",
              "    box-shadow: none;\n",
              "  }\n",
              "\n",
              "  .colab-df-spinner {\n",
              "    border: 2px solid var(--fill-color);\n",
              "    border-color: transparent;\n",
              "    border-bottom-color: var(--fill-color);\n",
              "    animation:\n",
              "      spin 1s steps(1) infinite;\n",
              "  }\n",
              "\n",
              "  @keyframes spin {\n",
              "    0% {\n",
              "      border-color: transparent;\n",
              "      border-bottom-color: var(--fill-color);\n",
              "      border-left-color: var(--fill-color);\n",
              "    }\n",
              "    20% {\n",
              "      border-color: transparent;\n",
              "      border-left-color: var(--fill-color);\n",
              "      border-top-color: var(--fill-color);\n",
              "    }\n",
              "    30% {\n",
              "      border-color: transparent;\n",
              "      border-left-color: var(--fill-color);\n",
              "      border-top-color: var(--fill-color);\n",
              "      border-right-color: var(--fill-color);\n",
              "    }\n",
              "    40% {\n",
              "      border-color: transparent;\n",
              "      border-right-color: var(--fill-color);\n",
              "      border-top-color: var(--fill-color);\n",
              "    }\n",
              "    60% {\n",
              "      border-color: transparent;\n",
              "      border-right-color: var(--fill-color);\n",
              "    }\n",
              "    80% {\n",
              "      border-color: transparent;\n",
              "      border-right-color: var(--fill-color);\n",
              "      border-bottom-color: var(--fill-color);\n",
              "    }\n",
              "    90% {\n",
              "      border-color: transparent;\n",
              "      border-bottom-color: var(--fill-color);\n",
              "    }\n",
              "  }\n",
              "</style>\n",
              "\n",
              "  <script>\n",
              "    async function quickchart(key) {\n",
              "      const quickchartButtonEl =\n",
              "        document.querySelector('#' + key + ' button');\n",
              "      quickchartButtonEl.disabled = true;  // To prevent multiple clicks.\n",
              "      quickchartButtonEl.classList.add('colab-df-spinner');\n",
              "      try {\n",
              "        const charts = await google.colab.kernel.invokeFunction(\n",
              "            'suggestCharts', [key], {});\n",
              "      } catch (error) {\n",
              "        console.error('Error during call to suggestCharts:', error);\n",
              "      }\n",
              "      quickchartButtonEl.classList.remove('colab-df-spinner');\n",
              "      quickchartButtonEl.classList.add('colab-df-quickchart-complete');\n",
              "    }\n",
              "    (() => {\n",
              "      let quickchartButtonEl =\n",
              "        document.querySelector('#df-0ff51318-46ad-4c94-b575-424e8a772768 button');\n",
              "      quickchartButtonEl.style.display =\n",
              "        google.colab.kernel.accessAllowed ? 'block' : 'none';\n",
              "    })();\n",
              "  </script>\n",
              "</div>\n",
              "\n",
              "    </div>\n",
              "  </div>\n"
            ]
          },
          "metadata": {},
          "execution_count": 7
        }
      ]
    },
    {
      "cell_type": "code",
      "source": [
        "df.shape"
      ],
      "metadata": {
        "colab": {
          "base_uri": "https://localhost:8080/"
        },
        "id": "_eV7A_fV68mt",
        "outputId": "b2395389-addf-44a0-bb99-f5fc99b1e507"
      },
      "execution_count": 8,
      "outputs": [
        {
          "output_type": "execute_result",
          "data": {
            "text/plain": [
              "(4999, 2)"
            ]
          },
          "metadata": {},
          "execution_count": 8
        }
      ]
    },
    {
      "cell_type": "code",
      "source": [
        "df.isnull().sum()"
      ],
      "metadata": {
        "colab": {
          "base_uri": "https://localhost:8080/"
        },
        "id": "8faV0iX-vGNR",
        "outputId": "2611ebe3-4ceb-4ccc-eb28-578af8ae8d2e"
      },
      "execution_count": 9,
      "outputs": [
        {
          "output_type": "execute_result",
          "data": {
            "text/plain": [
              "transcription      33\n",
              "keywords         1068\n",
              "dtype: int64"
            ]
          },
          "metadata": {},
          "execution_count": 9
        }
      ]
    },
    {
      "cell_type": "markdown",
      "source": [
        "Converting transcription to lowercase."
      ],
      "metadata": {
        "id": "p8pb27hHZXl0"
      }
    },
    {
      "cell_type": "code",
      "source": [
        "df['transcription_lower']=df['transcription'].apply(lambda x: ' '.join([i for i in str(x).lower().split(' ')]))\n",
        "df['transcription_lower']=df['transcription_lower'].astype(str)"
      ],
      "metadata": {
        "id": "uGOefqWjW9L7"
      },
      "execution_count": 10,
      "outputs": []
    },
    {
      "cell_type": "markdown",
      "source": [
        " Removing rows which have atleast one NULL value."
      ],
      "metadata": {
        "id": "uW-P5XrMZhpP"
      }
    },
    {
      "cell_type": "code",
      "source": [
        "df=df[[\"transcription\",\"keywords\",\"transcription_lower\"]].dropna()"
      ],
      "metadata": {
        "id": "2KvI-ntq25H5"
      },
      "execution_count": 20,
      "outputs": []
    },
    {
      "cell_type": "markdown",
      "source": [
        "Removing duplicate rows."
      ],
      "metadata": {
        "id": "yhGpgl1iZzaG"
      }
    },
    {
      "cell_type": "code",
      "source": [
        "df=df.drop_duplicates(['transcription', 'keywords',\"transcription_lower\"])"
      ],
      "metadata": {
        "id": "N1fRxwos270z"
      },
      "execution_count": 21,
      "outputs": []
    },
    {
      "cell_type": "code",
      "source": [
        "df.isnull().sum()"
      ],
      "metadata": {
        "colab": {
          "base_uri": "https://localhost:8080/"
        },
        "id": "k33T60XN7VGN",
        "outputId": "c3f6c721-9f0a-472f-f059-8cde9c346c1e"
      },
      "execution_count": 22,
      "outputs": [
        {
          "output_type": "execute_result",
          "data": {
            "text/plain": [
              "transcription          0\n",
              "keywords               0\n",
              "transcription_lower    0\n",
              "dtype: int64"
            ]
          },
          "metadata": {},
          "execution_count": 22
        }
      ]
    },
    {
      "cell_type": "code",
      "source": [
        "df.head()"
      ],
      "metadata": {
        "colab": {
          "base_uri": "https://localhost:8080/",
          "height": 293
        },
        "id": "Q70qeSG7YFPM",
        "outputId": "54620b15-7936-4950-8a86-fd7f27911f64"
      },
      "execution_count": 23,
      "outputs": [
        {
          "output_type": "execute_result",
          "data": {
            "text/plain": [
              "                                       transcription  \\\n",
              "0  SUBJECTIVE:,  This 23-year-old white female pr...   \n",
              "1  PAST MEDICAL HISTORY:, He has difficulty climb...   \n",
              "2  HISTORY OF PRESENT ILLNESS: , I have seen ABC ...   \n",
              "3  2-D M-MODE: , ,1.  Left atrial enlargement wit...   \n",
              "4  1.  The left ventricular cavity size and wall ...   \n",
              "\n",
              "                                            keywords  \\\n",
              "0  allergy / immunology, allergic rhinitis, aller...   \n",
              "1  bariatrics, laparoscopic gastric bypass, weigh...   \n",
              "2  bariatrics, laparoscopic gastric bypass, heart...   \n",
              "3  cardiovascular / pulmonary, 2-d m-mode, dopple...   \n",
              "4  cardiovascular / pulmonary, 2-d, doppler, echo...   \n",
              "\n",
              "                                 transcription_lower  \n",
              "0  subjective:,  this 23-year-old white female pr...  \n",
              "1  past medical history:, he has difficulty climb...  \n",
              "2  history of present illness: , i have seen abc ...  \n",
              "3  2-d m-mode: , ,1.  left atrial enlargement wit...  \n",
              "4  1.  the left ventricular cavity size and wall ...  "
            ],
            "text/html": [
              "\n",
              "  <div id=\"df-a94db36f-eea9-471e-9470-9e00644f2e11\" class=\"colab-df-container\">\n",
              "    <div>\n",
              "<style scoped>\n",
              "    .dataframe tbody tr th:only-of-type {\n",
              "        vertical-align: middle;\n",
              "    }\n",
              "\n",
              "    .dataframe tbody tr th {\n",
              "        vertical-align: top;\n",
              "    }\n",
              "\n",
              "    .dataframe thead th {\n",
              "        text-align: right;\n",
              "    }\n",
              "</style>\n",
              "<table border=\"1\" class=\"dataframe\">\n",
              "  <thead>\n",
              "    <tr style=\"text-align: right;\">\n",
              "      <th></th>\n",
              "      <th>transcription</th>\n",
              "      <th>keywords</th>\n",
              "      <th>transcription_lower</th>\n",
              "    </tr>\n",
              "  </thead>\n",
              "  <tbody>\n",
              "    <tr>\n",
              "      <th>0</th>\n",
              "      <td>SUBJECTIVE:,  This 23-year-old white female pr...</td>\n",
              "      <td>allergy / immunology, allergic rhinitis, aller...</td>\n",
              "      <td>subjective:,  this 23-year-old white female pr...</td>\n",
              "    </tr>\n",
              "    <tr>\n",
              "      <th>1</th>\n",
              "      <td>PAST MEDICAL HISTORY:, He has difficulty climb...</td>\n",
              "      <td>bariatrics, laparoscopic gastric bypass, weigh...</td>\n",
              "      <td>past medical history:, he has difficulty climb...</td>\n",
              "    </tr>\n",
              "    <tr>\n",
              "      <th>2</th>\n",
              "      <td>HISTORY OF PRESENT ILLNESS: , I have seen ABC ...</td>\n",
              "      <td>bariatrics, laparoscopic gastric bypass, heart...</td>\n",
              "      <td>history of present illness: , i have seen abc ...</td>\n",
              "    </tr>\n",
              "    <tr>\n",
              "      <th>3</th>\n",
              "      <td>2-D M-MODE: , ,1.  Left atrial enlargement wit...</td>\n",
              "      <td>cardiovascular / pulmonary, 2-d m-mode, dopple...</td>\n",
              "      <td>2-d m-mode: , ,1.  left atrial enlargement wit...</td>\n",
              "    </tr>\n",
              "    <tr>\n",
              "      <th>4</th>\n",
              "      <td>1.  The left ventricular cavity size and wall ...</td>\n",
              "      <td>cardiovascular / pulmonary, 2-d, doppler, echo...</td>\n",
              "      <td>1.  the left ventricular cavity size and wall ...</td>\n",
              "    </tr>\n",
              "  </tbody>\n",
              "</table>\n",
              "</div>\n",
              "    <div class=\"colab-df-buttons\">\n",
              "\n",
              "  <div class=\"colab-df-container\">\n",
              "    <button class=\"colab-df-convert\" onclick=\"convertToInteractive('df-a94db36f-eea9-471e-9470-9e00644f2e11')\"\n",
              "            title=\"Convert this dataframe to an interactive table.\"\n",
              "            style=\"display:none;\">\n",
              "\n",
              "  <svg xmlns=\"http://www.w3.org/2000/svg\" height=\"24px\" viewBox=\"0 -960 960 960\">\n",
              "    <path d=\"M120-120v-720h720v720H120Zm60-500h600v-160H180v160Zm220 220h160v-160H400v160Zm0 220h160v-160H400v160ZM180-400h160v-160H180v160Zm440 0h160v-160H620v160ZM180-180h160v-160H180v160Zm440 0h160v-160H620v160Z\"/>\n",
              "  </svg>\n",
              "    </button>\n",
              "\n",
              "  <style>\n",
              "    .colab-df-container {\n",
              "      display:flex;\n",
              "      gap: 12px;\n",
              "    }\n",
              "\n",
              "    .colab-df-convert {\n",
              "      background-color: #E8F0FE;\n",
              "      border: none;\n",
              "      border-radius: 50%;\n",
              "      cursor: pointer;\n",
              "      display: none;\n",
              "      fill: #1967D2;\n",
              "      height: 32px;\n",
              "      padding: 0 0 0 0;\n",
              "      width: 32px;\n",
              "    }\n",
              "\n",
              "    .colab-df-convert:hover {\n",
              "      background-color: #E2EBFA;\n",
              "      box-shadow: 0px 1px 2px rgba(60, 64, 67, 0.3), 0px 1px 3px 1px rgba(60, 64, 67, 0.15);\n",
              "      fill: #174EA6;\n",
              "    }\n",
              "\n",
              "    .colab-df-buttons div {\n",
              "      margin-bottom: 4px;\n",
              "    }\n",
              "\n",
              "    [theme=dark] .colab-df-convert {\n",
              "      background-color: #3B4455;\n",
              "      fill: #D2E3FC;\n",
              "    }\n",
              "\n",
              "    [theme=dark] .colab-df-convert:hover {\n",
              "      background-color: #434B5C;\n",
              "      box-shadow: 0px 1px 3px 1px rgba(0, 0, 0, 0.15);\n",
              "      filter: drop-shadow(0px 1px 2px rgba(0, 0, 0, 0.3));\n",
              "      fill: #FFFFFF;\n",
              "    }\n",
              "  </style>\n",
              "\n",
              "    <script>\n",
              "      const buttonEl =\n",
              "        document.querySelector('#df-a94db36f-eea9-471e-9470-9e00644f2e11 button.colab-df-convert');\n",
              "      buttonEl.style.display =\n",
              "        google.colab.kernel.accessAllowed ? 'block' : 'none';\n",
              "\n",
              "      async function convertToInteractive(key) {\n",
              "        const element = document.querySelector('#df-a94db36f-eea9-471e-9470-9e00644f2e11');\n",
              "        const dataTable =\n",
              "          await google.colab.kernel.invokeFunction('convertToInteractive',\n",
              "                                                    [key], {});\n",
              "        if (!dataTable) return;\n",
              "\n",
              "        const docLinkHtml = 'Like what you see? Visit the ' +\n",
              "          '<a target=\"_blank\" href=https://colab.research.google.com/notebooks/data_table.ipynb>data table notebook</a>'\n",
              "          + ' to learn more about interactive tables.';\n",
              "        element.innerHTML = '';\n",
              "        dataTable['output_type'] = 'display_data';\n",
              "        await google.colab.output.renderOutput(dataTable, element);\n",
              "        const docLink = document.createElement('div');\n",
              "        docLink.innerHTML = docLinkHtml;\n",
              "        element.appendChild(docLink);\n",
              "      }\n",
              "    </script>\n",
              "  </div>\n",
              "\n",
              "\n",
              "<div id=\"df-6bda3185-acf1-43c4-b67c-2da9a338ca97\">\n",
              "  <button class=\"colab-df-quickchart\" onclick=\"quickchart('df-6bda3185-acf1-43c4-b67c-2da9a338ca97')\"\n",
              "            title=\"Suggest charts\"\n",
              "            style=\"display:none;\">\n",
              "\n",
              "<svg xmlns=\"http://www.w3.org/2000/svg\" height=\"24px\"viewBox=\"0 0 24 24\"\n",
              "     width=\"24px\">\n",
              "    <g>\n",
              "        <path d=\"M19 3H5c-1.1 0-2 .9-2 2v14c0 1.1.9 2 2 2h14c1.1 0 2-.9 2-2V5c0-1.1-.9-2-2-2zM9 17H7v-7h2v7zm4 0h-2V7h2v10zm4 0h-2v-4h2v4z\"/>\n",
              "    </g>\n",
              "</svg>\n",
              "  </button>\n",
              "\n",
              "<style>\n",
              "  .colab-df-quickchart {\n",
              "      --bg-color: #E8F0FE;\n",
              "      --fill-color: #1967D2;\n",
              "      --hover-bg-color: #E2EBFA;\n",
              "      --hover-fill-color: #174EA6;\n",
              "      --disabled-fill-color: #AAA;\n",
              "      --disabled-bg-color: #DDD;\n",
              "  }\n",
              "\n",
              "  [theme=dark] .colab-df-quickchart {\n",
              "      --bg-color: #3B4455;\n",
              "      --fill-color: #D2E3FC;\n",
              "      --hover-bg-color: #434B5C;\n",
              "      --hover-fill-color: #FFFFFF;\n",
              "      --disabled-bg-color: #3B4455;\n",
              "      --disabled-fill-color: #666;\n",
              "  }\n",
              "\n",
              "  .colab-df-quickchart {\n",
              "    background-color: var(--bg-color);\n",
              "    border: none;\n",
              "    border-radius: 50%;\n",
              "    cursor: pointer;\n",
              "    display: none;\n",
              "    fill: var(--fill-color);\n",
              "    height: 32px;\n",
              "    padding: 0;\n",
              "    width: 32px;\n",
              "  }\n",
              "\n",
              "  .colab-df-quickchart:hover {\n",
              "    background-color: var(--hover-bg-color);\n",
              "    box-shadow: 0 1px 2px rgba(60, 64, 67, 0.3), 0 1px 3px 1px rgba(60, 64, 67, 0.15);\n",
              "    fill: var(--button-hover-fill-color);\n",
              "  }\n",
              "\n",
              "  .colab-df-quickchart-complete:disabled,\n",
              "  .colab-df-quickchart-complete:disabled:hover {\n",
              "    background-color: var(--disabled-bg-color);\n",
              "    fill: var(--disabled-fill-color);\n",
              "    box-shadow: none;\n",
              "  }\n",
              "\n",
              "  .colab-df-spinner {\n",
              "    border: 2px solid var(--fill-color);\n",
              "    border-color: transparent;\n",
              "    border-bottom-color: var(--fill-color);\n",
              "    animation:\n",
              "      spin 1s steps(1) infinite;\n",
              "  }\n",
              "\n",
              "  @keyframes spin {\n",
              "    0% {\n",
              "      border-color: transparent;\n",
              "      border-bottom-color: var(--fill-color);\n",
              "      border-left-color: var(--fill-color);\n",
              "    }\n",
              "    20% {\n",
              "      border-color: transparent;\n",
              "      border-left-color: var(--fill-color);\n",
              "      border-top-color: var(--fill-color);\n",
              "    }\n",
              "    30% {\n",
              "      border-color: transparent;\n",
              "      border-left-color: var(--fill-color);\n",
              "      border-top-color: var(--fill-color);\n",
              "      border-right-color: var(--fill-color);\n",
              "    }\n",
              "    40% {\n",
              "      border-color: transparent;\n",
              "      border-right-color: var(--fill-color);\n",
              "      border-top-color: var(--fill-color);\n",
              "    }\n",
              "    60% {\n",
              "      border-color: transparent;\n",
              "      border-right-color: var(--fill-color);\n",
              "    }\n",
              "    80% {\n",
              "      border-color: transparent;\n",
              "      border-right-color: var(--fill-color);\n",
              "      border-bottom-color: var(--fill-color);\n",
              "    }\n",
              "    90% {\n",
              "      border-color: transparent;\n",
              "      border-bottom-color: var(--fill-color);\n",
              "    }\n",
              "  }\n",
              "</style>\n",
              "\n",
              "  <script>\n",
              "    async function quickchart(key) {\n",
              "      const quickchartButtonEl =\n",
              "        document.querySelector('#' + key + ' button');\n",
              "      quickchartButtonEl.disabled = true;  // To prevent multiple clicks.\n",
              "      quickchartButtonEl.classList.add('colab-df-spinner');\n",
              "      try {\n",
              "        const charts = await google.colab.kernel.invokeFunction(\n",
              "            'suggestCharts', [key], {});\n",
              "      } catch (error) {\n",
              "        console.error('Error during call to suggestCharts:', error);\n",
              "      }\n",
              "      quickchartButtonEl.classList.remove('colab-df-spinner');\n",
              "      quickchartButtonEl.classList.add('colab-df-quickchart-complete');\n",
              "    }\n",
              "    (() => {\n",
              "      let quickchartButtonEl =\n",
              "        document.querySelector('#df-6bda3185-acf1-43c4-b67c-2da9a338ca97 button');\n",
              "      quickchartButtonEl.style.display =\n",
              "        google.colab.kernel.accessAllowed ? 'block' : 'none';\n",
              "    })();\n",
              "  </script>\n",
              "</div>\n",
              "\n",
              "    </div>\n",
              "  </div>\n"
            ]
          },
          "metadata": {},
          "execution_count": 23
        }
      ]
    },
    {
      "cell_type": "code",
      "source": [
        "def replace(input_string):\n",
        "    return input_string.replace('\\'', '\\\\\\'')"
      ],
      "metadata": {
        "id": "dSE_iSxrNKm5"
      },
      "execution_count": 24,
      "outputs": []
    },
    {
      "cell_type": "code",
      "source": [
        "df['keywords_list'] = df['keywords'].astype(str).apply(replace)"
      ],
      "metadata": {
        "id": "VJniHs7eNPNM"
      },
      "execution_count": 25,
      "outputs": []
    },
    {
      "cell_type": "code",
      "source": [
        "def add_single_quotes(input_string):\n",
        "    \"\"\"Add single quotes to every word in a comma-separated string.\"\"\"\n",
        "    words = input_string.split(', ')\n",
        "    quoted_words = [f\"'{word.strip()}'\" for word in words]\n",
        "    return ', '.join(quoted_words)"
      ],
      "metadata": {
        "id": "a5O8UgmWNS5n"
      },
      "execution_count": 26,
      "outputs": []
    },
    {
      "cell_type": "code",
      "source": [
        "df['keywords_list'] = df['keywords_list'].apply(add_single_quotes)"
      ],
      "metadata": {
        "id": "zV84m8fUNgwJ"
      },
      "execution_count": 27,
      "outputs": []
    },
    {
      "cell_type": "code",
      "source": [
        "def add_square_brackets(input_string):\n",
        "  input_string = '['+input_string+']'\n",
        "  return input_string"
      ],
      "metadata": {
        "id": "fbxiKRswNWN-"
      },
      "execution_count": 28,
      "outputs": []
    },
    {
      "cell_type": "code",
      "source": [
        "df['keywords_list'] = df['keywords_list'].apply(add_square_brackets)"
      ],
      "metadata": {
        "id": "A1G27jpUNnZt"
      },
      "execution_count": 29,
      "outputs": []
    },
    {
      "cell_type": "code",
      "source": [
        "ast.literal_eval(df['keywords_list'].iloc[0])"
      ],
      "metadata": {
        "colab": {
          "base_uri": "https://localhost:8080/"
        },
        "id": "EiweygCyO_kT",
        "outputId": "e2d3e952-7dd8-4435-aae9-dae5b388619e"
      },
      "execution_count": 30,
      "outputs": [
        {
          "output_type": "execute_result",
          "data": {
            "text/plain": [
              "['allergy / immunology',\n",
              " 'allergic rhinitis',\n",
              " 'allergies',\n",
              " 'asthma',\n",
              " 'nasal sprays',\n",
              " 'rhinitis',\n",
              " 'nasal',\n",
              " 'erythematous',\n",
              " 'allegra',\n",
              " 'sprays',\n",
              " 'allergic,']"
            ]
          },
          "metadata": {},
          "execution_count": 30
        }
      ]
    },
    {
      "cell_type": "code",
      "source": [
        "df['keywords_list'] = df['keywords_list'].apply(lambda x: ast.literal_eval(x))"
      ],
      "metadata": {
        "id": "1Hx7fvijPG_8"
      },
      "execution_count": 31,
      "outputs": []
    },
    {
      "cell_type": "code",
      "source": [
        "type(df['keywords_list'].iloc[0])"
      ],
      "metadata": {
        "colab": {
          "base_uri": "https://localhost:8080/"
        },
        "id": "qEm6q2A1-yp6",
        "outputId": "8a686b79-08fa-4e40-8b32-b27c89643dc8"
      },
      "execution_count": 32,
      "outputs": [
        {
          "output_type": "execute_result",
          "data": {
            "text/plain": [
              "list"
            ]
          },
          "metadata": {},
          "execution_count": 32
        }
      ]
    },
    {
      "cell_type": "code",
      "source": [
        "data=df[[\"transcription_lower\",\"keywords_list\"]]"
      ],
      "metadata": {
        "id": "fYAfhkAmxsOl"
      },
      "execution_count": 33,
      "outputs": []
    },
    {
      "cell_type": "code",
      "source": [
        "data.head()"
      ],
      "metadata": {
        "colab": {
          "base_uri": "https://localhost:8080/",
          "height": 206
        },
        "id": "wj3fqH9mjHMw",
        "outputId": "dd5bfd4d-eee8-4dac-e8c5-624cc7ad9d20"
      },
      "execution_count": 34,
      "outputs": [
        {
          "output_type": "execute_result",
          "data": {
            "text/plain": [
              "                                 transcription_lower  \\\n",
              "0  subjective:,  this 23-year-old white female pr...   \n",
              "1  past medical history:, he has difficulty climb...   \n",
              "2  history of present illness: , i have seen abc ...   \n",
              "3  2-d m-mode: , ,1.  left atrial enlargement wit...   \n",
              "4  1.  the left ventricular cavity size and wall ...   \n",
              "\n",
              "                                       keywords_list  \n",
              "0  [allergy / immunology, allergic rhinitis, alle...  \n",
              "1  [bariatrics, laparoscopic gastric bypass, weig...  \n",
              "2  [bariatrics, laparoscopic gastric bypass, hear...  \n",
              "3  [cardiovascular / pulmonary, 2-d m-mode, doppl...  \n",
              "4  [cardiovascular / pulmonary, 2-d, doppler, ech...  "
            ],
            "text/html": [
              "\n",
              "  <div id=\"df-217f8959-9d03-4d35-ae09-c003517f9b5c\" class=\"colab-df-container\">\n",
              "    <div>\n",
              "<style scoped>\n",
              "    .dataframe tbody tr th:only-of-type {\n",
              "        vertical-align: middle;\n",
              "    }\n",
              "\n",
              "    .dataframe tbody tr th {\n",
              "        vertical-align: top;\n",
              "    }\n",
              "\n",
              "    .dataframe thead th {\n",
              "        text-align: right;\n",
              "    }\n",
              "</style>\n",
              "<table border=\"1\" class=\"dataframe\">\n",
              "  <thead>\n",
              "    <tr style=\"text-align: right;\">\n",
              "      <th></th>\n",
              "      <th>transcription_lower</th>\n",
              "      <th>keywords_list</th>\n",
              "    </tr>\n",
              "  </thead>\n",
              "  <tbody>\n",
              "    <tr>\n",
              "      <th>0</th>\n",
              "      <td>subjective:,  this 23-year-old white female pr...</td>\n",
              "      <td>[allergy / immunology, allergic rhinitis, alle...</td>\n",
              "    </tr>\n",
              "    <tr>\n",
              "      <th>1</th>\n",
              "      <td>past medical history:, he has difficulty climb...</td>\n",
              "      <td>[bariatrics, laparoscopic gastric bypass, weig...</td>\n",
              "    </tr>\n",
              "    <tr>\n",
              "      <th>2</th>\n",
              "      <td>history of present illness: , i have seen abc ...</td>\n",
              "      <td>[bariatrics, laparoscopic gastric bypass, hear...</td>\n",
              "    </tr>\n",
              "    <tr>\n",
              "      <th>3</th>\n",
              "      <td>2-d m-mode: , ,1.  left atrial enlargement wit...</td>\n",
              "      <td>[cardiovascular / pulmonary, 2-d m-mode, doppl...</td>\n",
              "    </tr>\n",
              "    <tr>\n",
              "      <th>4</th>\n",
              "      <td>1.  the left ventricular cavity size and wall ...</td>\n",
              "      <td>[cardiovascular / pulmonary, 2-d, doppler, ech...</td>\n",
              "    </tr>\n",
              "  </tbody>\n",
              "</table>\n",
              "</div>\n",
              "    <div class=\"colab-df-buttons\">\n",
              "\n",
              "  <div class=\"colab-df-container\">\n",
              "    <button class=\"colab-df-convert\" onclick=\"convertToInteractive('df-217f8959-9d03-4d35-ae09-c003517f9b5c')\"\n",
              "            title=\"Convert this dataframe to an interactive table.\"\n",
              "            style=\"display:none;\">\n",
              "\n",
              "  <svg xmlns=\"http://www.w3.org/2000/svg\" height=\"24px\" viewBox=\"0 -960 960 960\">\n",
              "    <path d=\"M120-120v-720h720v720H120Zm60-500h600v-160H180v160Zm220 220h160v-160H400v160Zm0 220h160v-160H400v160ZM180-400h160v-160H180v160Zm440 0h160v-160H620v160ZM180-180h160v-160H180v160Zm440 0h160v-160H620v160Z\"/>\n",
              "  </svg>\n",
              "    </button>\n",
              "\n",
              "  <style>\n",
              "    .colab-df-container {\n",
              "      display:flex;\n",
              "      gap: 12px;\n",
              "    }\n",
              "\n",
              "    .colab-df-convert {\n",
              "      background-color: #E8F0FE;\n",
              "      border: none;\n",
              "      border-radius: 50%;\n",
              "      cursor: pointer;\n",
              "      display: none;\n",
              "      fill: #1967D2;\n",
              "      height: 32px;\n",
              "      padding: 0 0 0 0;\n",
              "      width: 32px;\n",
              "    }\n",
              "\n",
              "    .colab-df-convert:hover {\n",
              "      background-color: #E2EBFA;\n",
              "      box-shadow: 0px 1px 2px rgba(60, 64, 67, 0.3), 0px 1px 3px 1px rgba(60, 64, 67, 0.15);\n",
              "      fill: #174EA6;\n",
              "    }\n",
              "\n",
              "    .colab-df-buttons div {\n",
              "      margin-bottom: 4px;\n",
              "    }\n",
              "\n",
              "    [theme=dark] .colab-df-convert {\n",
              "      background-color: #3B4455;\n",
              "      fill: #D2E3FC;\n",
              "    }\n",
              "\n",
              "    [theme=dark] .colab-df-convert:hover {\n",
              "      background-color: #434B5C;\n",
              "      box-shadow: 0px 1px 3px 1px rgba(0, 0, 0, 0.15);\n",
              "      filter: drop-shadow(0px 1px 2px rgba(0, 0, 0, 0.3));\n",
              "      fill: #FFFFFF;\n",
              "    }\n",
              "  </style>\n",
              "\n",
              "    <script>\n",
              "      const buttonEl =\n",
              "        document.querySelector('#df-217f8959-9d03-4d35-ae09-c003517f9b5c button.colab-df-convert');\n",
              "      buttonEl.style.display =\n",
              "        google.colab.kernel.accessAllowed ? 'block' : 'none';\n",
              "\n",
              "      async function convertToInteractive(key) {\n",
              "        const element = document.querySelector('#df-217f8959-9d03-4d35-ae09-c003517f9b5c');\n",
              "        const dataTable =\n",
              "          await google.colab.kernel.invokeFunction('convertToInteractive',\n",
              "                                                    [key], {});\n",
              "        if (!dataTable) return;\n",
              "\n",
              "        const docLinkHtml = 'Like what you see? Visit the ' +\n",
              "          '<a target=\"_blank\" href=https://colab.research.google.com/notebooks/data_table.ipynb>data table notebook</a>'\n",
              "          + ' to learn more about interactive tables.';\n",
              "        element.innerHTML = '';\n",
              "        dataTable['output_type'] = 'display_data';\n",
              "        await google.colab.output.renderOutput(dataTable, element);\n",
              "        const docLink = document.createElement('div');\n",
              "        docLink.innerHTML = docLinkHtml;\n",
              "        element.appendChild(docLink);\n",
              "      }\n",
              "    </script>\n",
              "  </div>\n",
              "\n",
              "\n",
              "<div id=\"df-f3dd9ad5-3a45-4368-b8b4-8622e5f85b6f\">\n",
              "  <button class=\"colab-df-quickchart\" onclick=\"quickchart('df-f3dd9ad5-3a45-4368-b8b4-8622e5f85b6f')\"\n",
              "            title=\"Suggest charts\"\n",
              "            style=\"display:none;\">\n",
              "\n",
              "<svg xmlns=\"http://www.w3.org/2000/svg\" height=\"24px\"viewBox=\"0 0 24 24\"\n",
              "     width=\"24px\">\n",
              "    <g>\n",
              "        <path d=\"M19 3H5c-1.1 0-2 .9-2 2v14c0 1.1.9 2 2 2h14c1.1 0 2-.9 2-2V5c0-1.1-.9-2-2-2zM9 17H7v-7h2v7zm4 0h-2V7h2v10zm4 0h-2v-4h2v4z\"/>\n",
              "    </g>\n",
              "</svg>\n",
              "  </button>\n",
              "\n",
              "<style>\n",
              "  .colab-df-quickchart {\n",
              "      --bg-color: #E8F0FE;\n",
              "      --fill-color: #1967D2;\n",
              "      --hover-bg-color: #E2EBFA;\n",
              "      --hover-fill-color: #174EA6;\n",
              "      --disabled-fill-color: #AAA;\n",
              "      --disabled-bg-color: #DDD;\n",
              "  }\n",
              "\n",
              "  [theme=dark] .colab-df-quickchart {\n",
              "      --bg-color: #3B4455;\n",
              "      --fill-color: #D2E3FC;\n",
              "      --hover-bg-color: #434B5C;\n",
              "      --hover-fill-color: #FFFFFF;\n",
              "      --disabled-bg-color: #3B4455;\n",
              "      --disabled-fill-color: #666;\n",
              "  }\n",
              "\n",
              "  .colab-df-quickchart {\n",
              "    background-color: var(--bg-color);\n",
              "    border: none;\n",
              "    border-radius: 50%;\n",
              "    cursor: pointer;\n",
              "    display: none;\n",
              "    fill: var(--fill-color);\n",
              "    height: 32px;\n",
              "    padding: 0;\n",
              "    width: 32px;\n",
              "  }\n",
              "\n",
              "  .colab-df-quickchart:hover {\n",
              "    background-color: var(--hover-bg-color);\n",
              "    box-shadow: 0 1px 2px rgba(60, 64, 67, 0.3), 0 1px 3px 1px rgba(60, 64, 67, 0.15);\n",
              "    fill: var(--button-hover-fill-color);\n",
              "  }\n",
              "\n",
              "  .colab-df-quickchart-complete:disabled,\n",
              "  .colab-df-quickchart-complete:disabled:hover {\n",
              "    background-color: var(--disabled-bg-color);\n",
              "    fill: var(--disabled-fill-color);\n",
              "    box-shadow: none;\n",
              "  }\n",
              "\n",
              "  .colab-df-spinner {\n",
              "    border: 2px solid var(--fill-color);\n",
              "    border-color: transparent;\n",
              "    border-bottom-color: var(--fill-color);\n",
              "    animation:\n",
              "      spin 1s steps(1) infinite;\n",
              "  }\n",
              "\n",
              "  @keyframes spin {\n",
              "    0% {\n",
              "      border-color: transparent;\n",
              "      border-bottom-color: var(--fill-color);\n",
              "      border-left-color: var(--fill-color);\n",
              "    }\n",
              "    20% {\n",
              "      border-color: transparent;\n",
              "      border-left-color: var(--fill-color);\n",
              "      border-top-color: var(--fill-color);\n",
              "    }\n",
              "    30% {\n",
              "      border-color: transparent;\n",
              "      border-left-color: var(--fill-color);\n",
              "      border-top-color: var(--fill-color);\n",
              "      border-right-color: var(--fill-color);\n",
              "    }\n",
              "    40% {\n",
              "      border-color: transparent;\n",
              "      border-right-color: var(--fill-color);\n",
              "      border-top-color: var(--fill-color);\n",
              "    }\n",
              "    60% {\n",
              "      border-color: transparent;\n",
              "      border-right-color: var(--fill-color);\n",
              "    }\n",
              "    80% {\n",
              "      border-color: transparent;\n",
              "      border-right-color: var(--fill-color);\n",
              "      border-bottom-color: var(--fill-color);\n",
              "    }\n",
              "    90% {\n",
              "      border-color: transparent;\n",
              "      border-bottom-color: var(--fill-color);\n",
              "    }\n",
              "  }\n",
              "</style>\n",
              "\n",
              "  <script>\n",
              "    async function quickchart(key) {\n",
              "      const quickchartButtonEl =\n",
              "        document.querySelector('#' + key + ' button');\n",
              "      quickchartButtonEl.disabled = true;  // To prevent multiple clicks.\n",
              "      quickchartButtonEl.classList.add('colab-df-spinner');\n",
              "      try {\n",
              "        const charts = await google.colab.kernel.invokeFunction(\n",
              "            'suggestCharts', [key], {});\n",
              "      } catch (error) {\n",
              "        console.error('Error during call to suggestCharts:', error);\n",
              "      }\n",
              "      quickchartButtonEl.classList.remove('colab-df-spinner');\n",
              "      quickchartButtonEl.classList.add('colab-df-quickchart-complete');\n",
              "    }\n",
              "    (() => {\n",
              "      let quickchartButtonEl =\n",
              "        document.querySelector('#df-f3dd9ad5-3a45-4368-b8b4-8622e5f85b6f button');\n",
              "      quickchartButtonEl.style.display =\n",
              "        google.colab.kernel.accessAllowed ? 'block' : 'none';\n",
              "    })();\n",
              "  </script>\n",
              "</div>\n",
              "\n",
              "    </div>\n",
              "  </div>\n"
            ]
          },
          "metadata": {},
          "execution_count": 34
        }
      ]
    },
    {
      "cell_type": "code",
      "source": [
        "multilabel = MultiLabelBinarizer()\n",
        "y = multilabel.fit_transform(data['keywords_list'])"
      ],
      "metadata": {
        "id": "YUh4nWDLRf9q"
      },
      "execution_count": null,
      "outputs": []
    },
    {
      "cell_type": "code",
      "source": [
        "# pd.DataFrame(y, columns=multilabel.classes_)"
      ],
      "metadata": {
        "id": "eDBwYcLLx6JK"
      },
      "execution_count": null,
      "outputs": []
    },
    {
      "cell_type": "code",
      "source": [
        "X_train, X_test, y_train, y_test = train_test_split(data['transcription_lower'], y, test_size = 0.2, random_state = 0)"
      ],
      "metadata": {
        "id": "Rol8iHJAz43t"
      },
      "execution_count": null,
      "outputs": []
    },
    {
      "cell_type": "code",
      "source": [
        "tfidf = TfidfVectorizer(min_df=0.00009, smooth_idf=True, tokenizer = lambda x: x.split(), sublinear_tf=False, ngram_range=(1,3), max_features=50000,stop_words='english')\n",
        "X_train = tfidf.fit_transform(X_train)\n",
        "X_test =tfidf.transform(X_test)"
      ],
      "metadata": {
        "colab": {
          "base_uri": "https://localhost:8080/"
        },
        "id": "yO6Q17vUsQNV",
        "outputId": "0b1cb6e3-81d1-4cb8-c6a1-a991647d016f"
      },
      "execution_count": null,
      "outputs": [
        {
          "output_type": "stream",
          "name": "stderr",
          "text": [
            "/usr/local/lib/python3.10/dist-packages/sklearn/feature_extraction/text.py:528: UserWarning: The parameter 'token_pattern' will not be used since 'tokenizer' is not None'\n",
            "  warnings.warn(\n"
          ]
        }
      ]
    },
    {
      "cell_type": "code",
      "source": [
        "sgd = SGDClassifier(loss='log', alpha=1e-5, penalty='l1')\n",
        "# lr = LogisticRegression(solver='lbfgs')\n",
        "# svc = LinearSVC()"
      ],
      "metadata": {
        "id": "VeYF_gB_z8Qn"
      },
      "execution_count": null,
      "outputs": []
    },
    {
      "cell_type": "code",
      "source": [
        "import warnings\n",
        "warnings.filterwarnings('ignore')"
      ],
      "metadata": {
        "id": "W2VTJOBmUEQd"
      },
      "execution_count": null,
      "outputs": []
    },
    {
      "cell_type": "code",
      "source": [
        "from sklearn.metrics import jaccard_score\n",
        "from sklearn.preprocessing import MultiLabelBinarizer\n",
        "\n",
        "clf = OneVsRestClassifier(sgd)\n",
        "clf.fit(X_train, y_train)\n",
        "y_pred = clf.predict(X_test)"
      ],
      "metadata": {
        "id": "lqtRv-drMTMb"
      },
      "execution_count": null,
      "outputs": []
    },
    {
      "cell_type": "code",
      "source": [
        "y_test_bin = multilabel.inverse_transform(y_test)\n",
        "predictions_bin = multilabel.inverse_transform(y_pred)\n",
        "jaccard_index = jaccard_score(y_test, y_pred, average='micro')\n",
        "\n",
        "print(f'Accuracy using Jaccard Index: {jaccard_index:.4f}')"
      ],
      "metadata": {
        "colab": {
          "base_uri": "https://localhost:8080/"
        },
        "id": "u4TPBOQ3a6ZC",
        "outputId": "86093caf-0c89-4848-f468-36b69f452de7"
      },
      "execution_count": null,
      "outputs": [
        {
          "output_type": "stream",
          "name": "stdout",
          "text": [
            "Accuracy using Jaccard Index: 0.6842\n"
          ]
        }
      ]
    },
    {
      "cell_type": "markdown",
      "source": [
        "Used LinearSVC, SGDClassifier and Logistic Regression.Among All SGDClassifier gave the best jaccard score.That's why I used SGDClassifier as final model."
      ],
      "metadata": {
        "id": "pzPGe9V6mIKr"
      }
    },
    {
      "cell_type": "code",
      "source": [
        "print(y_test_bin[0])\n",
        "print(predictions_bin[0])"
      ],
      "metadata": {
        "colab": {
          "base_uri": "https://localhost:8080/"
        },
        "id": "04S4vGhnriAj",
        "outputId": "8e8504a3-cad0-4d30-d311-408c469fe1ad"
      },
      "execution_count": null,
      "outputs": [
        {
          "output_type": "stream",
          "name": "stdout",
          "text": [
            "('', 'active bleeding', 'atraumatic', 'bleeding', 'body', 'cut on foot', 'emergency room reports', 'foot', 'foot pain', 'foreign body', 'injuries', 'laceration', 'piece of glass')\n",
            "('', 'active bleeding', 'atraumatic', 'bleeding', 'cut on foot', 'foot', 'foot pain', 'foreign body', 'general medicine', 'injuries', 'laceration')\n"
          ]
        }
      ]
    },
    {
      "cell_type": "markdown",
      "source": [
        "Using Pretrained Model Like BART"
      ],
      "metadata": {
        "id": "uoROJlzoUfHr"
      }
    },
    {
      "cell_type": "code",
      "source": [
        "data=df[[\"transcription_lower\",\"keywords\"]]"
      ],
      "metadata": {
        "id": "6BuskQ4aYzmH"
      },
      "execution_count": 35,
      "outputs": []
    },
    {
      "cell_type": "code",
      "source": [
        "from transformers import BartForConditionalGeneration\n",
        "from transformers import AutoTokenizer\n",
        "tokenizer = AutoTokenizer.from_pretrained(\"facebook/bart-base\", padding_side=\"left\",truncation_side='right')\n",
        "if torch.cuda.is_available():\n",
        "    model = BartForConditionalGeneration.from_pretrained(\"facebook/bart-base\").to(\"cuda\")\n"
      ],
      "metadata": {
        "id": "2F7ECKq_J71R"
      },
      "execution_count": null,
      "outputs": []
    },
    {
      "cell_type": "code",
      "source": [
        "class MedicalDataset(Dataset):\n",
        "    def __init__(self, df, transcript_lower, keywords, tokenizer, input_length, output_length):\n",
        "        self.df = df\n",
        "        self.transcript_lower = transcript_lower\n",
        "        self.keywords = keywords\n",
        "        self.tokenizer = tokenizer\n",
        "        self.input_length = input_length\n",
        "        self.output_length = output_length\n",
        "\n",
        "    def __len__(self):\n",
        "        return self.df.shape[0]\n",
        "\n",
        "    def __getitem__(self, idx):\n",
        "        transcript_tokens = self.tokenizer(self.df[self.transcript_lower].iloc[idx],padding='max_length',truncation=True, max_length=self.input_length,return_tensors='pt')['input_ids']\n",
        "        keyword_tokens = self.tokenizer(self.df[self.keywords].iloc[idx],padding=\"max_length\", truncation=True,max_length=self.output_length,return_tensors='pt')['input_ids']\n",
        "\n",
        "        if torch.cuda.is_available():\n",
        "            transcript_tokens = transcript_tokens.to(\"cuda\")\n",
        "            keyword_tokens = keyword_tokens.to(\"cuda\")\n",
        "        return transcript_tokens[0,:], keyword_tokens[0,:]"
      ],
      "metadata": {
        "id": "XV9YxmtOL3QF"
      },
      "execution_count": 37,
      "outputs": []
    },
    {
      "cell_type": "code",
      "source": [
        "data_train, data_test = train_test_split(data, train_size=0.8, random_state=0)\n",
        "train_data = MedicalDataset(data_train,'transcription_lower','keywords',tokenizer,750, 100)\n",
        "test_data = MedicalDataset(data_test,'transcription_lower','keywords',tokenizer,750, 100)\n",
        "\n",
        "batch_size = 6\n",
        "\n",
        "dl_train = DataLoader(train_data, batch_size=batch_size, shuffle=True)\n",
        "dl_test = DataLoader(test_data, batch_size=batch_size, shuffle=True)"
      ],
      "metadata": {
        "id": "sDRCP40ehSdI"
      },
      "execution_count": 38,
      "outputs": []
    },
    {
      "cell_type": "code",
      "source": [
        "optimizer = Adam(model.parameters(),lr=2e-4)\n",
        "epochs = 3\n",
        "def num_batches(total, batch_size):\n",
        "    if total % batch_size == 0:\n",
        "        return total // batch_size\n",
        "    else:\n",
        "        return total // batch_size + 1"
      ],
      "metadata": {
        "id": "XfdAQxffaAHh"
      },
      "execution_count": 39,
      "outputs": []
    },
    {
      "cell_type": "code",
      "source": [
        "train_batches = num_batches(data_train.shape[0],batch_size)\n",
        "test_batches = num_batches(data_test.shape[0],batch_size)"
      ],
      "metadata": {
        "id": "SbSv5Lx0awkt"
      },
      "execution_count": 40,
      "outputs": []
    },
    {
      "cell_type": "code",
      "source": [
        "### Function to train model\n",
        "def training(data,num_batches, model, optimizer):\n",
        "    model.train()\n",
        "    model_loss = 0\n",
        "    model_acc = 0\n",
        "    i = 0\n",
        "    for tr, kw in data:\n",
        "        optimizer.zero_grad()\n",
        "        out = model(tr, labels=kw)\n",
        "\n",
        "        ### Loss computation\n",
        "        r_loss = out.loss\n",
        "        model_loss += r_loss.item()\n",
        "\n",
        "        ### Accuracy Computation\n",
        "        logits = out.logits\n",
        "        preds = torch.softmax(logits,dim=2)\n",
        "        preds = torch.argmax(preds,dim=2)\n",
        "        acc = torch.sum(kw == preds).item()/(kw.shape[0]*kw.shape[1])\n",
        "        model_acc += acc\n",
        "\n",
        "        r_loss.backward()\n",
        "        optimizer.step()\n",
        "\n",
        "        i+=1\n",
        "        print(f\"loss={model_loss/i} accuracy={model_acc/i}\",end=\"\\r\")\n",
        "\n",
        "    print(f\"loss={model_loss/i} accuracy={model_acc/i}\",end=\"\\n\")"
      ],
      "metadata": {
        "id": "et1zEkuqMO8j"
      },
      "execution_count": 41,
      "outputs": []
    },
    {
      "cell_type": "code",
      "source": [
        "def testing(data,num_batches, model):\n",
        "    model.eval()\n",
        "    model_loss = 0\n",
        "    model_acc = 0\n",
        "    i = 0\n",
        "    for tr, kw in data:\n",
        "        out = model(tr, labels=kw)\n",
        "\n",
        "        r_loss = out.loss\n",
        "        model_loss += r_loss.item()\n",
        "\n",
        "        logits = out.logits\n",
        "        preds = torch.softmax(logits,dim=2)\n",
        "        preds = torch.argmax(preds,dim=2)\n",
        "        acc = torch.sum(kw == preds).item()/(kw.shape[0]*kw.shape[1])\n",
        "        model_acc += acc\n",
        "\n",
        "        i+=1\n",
        "        print(f\"loss={model_loss/i} accuracy={model_acc/i}\",end=\"\\r\")\n",
        "\n",
        "    print(f\"loss={model_loss/i} accuracy={model_acc/i}\",end=\"\\n\")"
      ],
      "metadata": {
        "id": "ivIn5WHya1Cp"
      },
      "execution_count": 42,
      "outputs": []
    },
    {
      "cell_type": "code",
      "source": [
        "for e in range(epochs):\n",
        "    training(dl_train,train_batches,model, optimizer)\n",
        "    testing(dl_test, test_batches,model)"
      ],
      "metadata": {
        "colab": {
          "base_uri": "https://localhost:8080/"
        },
        "id": "CsxKRen2McB-",
        "outputId": "20a30649-8129-478d-822b-d0408248b34c"
      },
      "execution_count": 43,
      "outputs": [
        {
          "output_type": "stream",
          "name": "stdout",
          "text": [
            "loss=1.33675569237902 accuracy=0.780758754863813\n",
            "loss=0.8575120438901029 accuracy=0.8302325581395353\n",
            "loss=0.7801822902859417 accuracy=0.8398378728923481\n",
            "loss=0.756462503311246 accuracy=0.8418087855297164\n",
            "loss=0.6538055993703553 accuracy=0.8543547341115446\n",
            "loss=0.6739316739777262 accuracy=0.8529844961240307\n"
          ]
        }
      ]
    },
    {
      "cell_type": "code",
      "source": [
        "def generate_result(df,transcription, model, tokenizer):\n",
        "    df['Predicted'] = df[transcription].apply(lambda x: tokenizer(x, max_length=750,padding='max_length', truncation=True, return_tensors='pt')['input_ids'])\n",
        "    if torch.cuda.is_available():\n",
        "        df['Predicted'] = df['Predicted'].apply(lambda x: x.to(\"cuda\"))\n",
        "\n",
        "    df['Predicted'] = df['Predicted'].apply(lambda x: model.generate(x,min_length=20,max_length=100 ))\n",
        "    df['Predicted'] = df['Predicted'].apply(lambda x: tokenizer.batch_decode(x,skip_special_tokens=True))\n",
        "    return df"
      ],
      "metadata": {
        "id": "3tc2pA4hPgv9"
      },
      "execution_count": 44,
      "outputs": []
    },
    {
      "cell_type": "code",
      "source": [
        "df_res = generate_result(data_test,'transcription_lower',model,tokenizer)"
      ],
      "metadata": {
        "id": "vdGPWlhfQsBr"
      },
      "execution_count": 45,
      "outputs": []
    },
    {
      "cell_type": "code",
      "source": [
        "model.generate(tokenizer(data_test['transcription_lower'].iloc[0],max_length=750,padding=\"max_length\", truncation=True,return_tensors='pt')['input_ids'].to('cuda'),max_length=100)"
      ],
      "metadata": {
        "colab": {
          "base_uri": "https://localhost:8080/"
        },
        "id": "iN51-yxaQxrQ",
        "outputId": "a5040ff1-dfe2-4251-e4a6-1d293dd35213"
      },
      "execution_count": 46,
      "outputs": [
        {
          "output_type": "execute_result",
          "data": {
            "text/plain": [
              "tensor([[    2,     0,     1,     1,     1,     0, 22494, 15911,   636,     6,\n",
              "           847,    15,  2767,     6,   741,  4668, 10100,     6,  1145,  7889,\n",
              "         19898, 36063,     6, 30249,   354,  1264,   738,     6, 13206,   636,\n",
              "          3876, 22090,     6, 34867,  1571,     6, 24295, 15010, 30404,     6,\n",
              "          2849, 27643,  1258,     6,  2849,  8267, 33101,     6,  2849,  5901,\n",
              "          6204,     6, 34867,  2192,     6,  2767,     6,   784, 11937,  1258,\n",
              "         46599,     6,    35,    20,  8738, 28584, 38131,  1131, 37118,  7728,\n",
              "           690,     8,  7721,    32,  1286,    30,  1337,  1434,     8,  1322,\n",
              "            13,  5135,  3508,   129,     4,   256,  3732,   523,   642, 18997,\n",
              "           473,    45, 33446,  8611,     8,  1318,     9,  7728,   690,     2]],\n",
              "       device='cuda:0')"
            ]
          },
          "metadata": {},
          "execution_count": 46
        }
      ]
    },
    {
      "cell_type": "code",
      "source": [
        "tokenizer(data_test['transcription_lower'].iloc[0],max_length=750,padding=\"max_length\", truncation=True)"
      ],
      "metadata": {
        "colab": {
          "base_uri": "https://localhost:8080/"
        },
        "id": "LUuWdN84Q5f6",
        "outputId": "ef75c159-aefa-4594-fd62-217be9bd39fe"
      },
      "execution_count": 47,
      "outputs": [
        {
          "output_type": "execute_result",
          "data": {
            "text/plain": [
              "{'input_ids': [0, 15276, 3674, 46686, 1437, 847, 15, 2767, 482, 37283, 9, 1455, 5467, 46686, 1437, 42, 16, 10, 2107, 12, 180, 12, 279, 2943, 54, 56, 10, 2125, 9, 4049, 1136, 15, 7, 39, 235, 2767, 452, 4, 1437, 5, 3186, 21, 2273, 142, 9, 5, 1280, 9, 13162, 14, 2756, 19, 24, 4, 1437, 5, 13162, 34, 57, 2294, 8, 5, 3186, 473, 45, 33, 143, 2400, 4, 1437, 5, 3186, 34, 2340, 304, 9, 39, 2767, 6, 89, 16, 117, 31086, 1825, 50, 8269, 6, 5, 3186, 16, 441, 7, 13569, 10246, 157, 396, 143, 19535, 4, 1437, 5, 3186, 9118, 143, 1746, 7, 143, 97, 4745, 9, 39, 809, 4, 1437, 37, 34, 45, 56, 143, 485, 5467, 4, 1437, 5, 3186, 34, 117, 97, 1272, 50, 4496, 482, 33456, 1131, 750, 46686, 1437, 18881, 482, 28311, 8456, 35, 2156, 1076, 4297, 254, 1168, 482, 1250, 11249, 918, 46686, 1437, 117, 684, 1262, 26331, 482, 19027, 750, 35, 2156, 5, 3186, 16, 10, 40345, 482, 41359, 9027, 46686, 1437, 4874, 2434, 35, 1437, 5181, 8757, 4, 398, 11651, 6, 1925, 1164, 19376, 73, 5334, 6, 22293, 16, 5553, 6, 8, 44266, 1635, 545, 4, 1437, 11747, 39109, 16, 727, 207, 15, 929, 935, 8, 19912, 25, 2340, 4, 1437, 6100, 35, 1437, 5, 3186, 16, 157, 12, 282, 2126, 6555, 6, 157, 12, 28176, 6, 5, 3186, 2092, 7, 28, 2245, 4, 1437, 5, 3186, 16, 6327, 8, 3473, 11, 117, 13827, 13250, 8, 1326, 157, 4, 1437, 5, 3186, 16, 16219, 8, 18777, 4, 1437, 37, 1342, 35, 1437, 471, 16, 23, 763, 36777, 6, 13071, 139, 38407, 636, 6, 8, 41316, 7232, 4, 1437, 2473, 32, 2340, 19, 699, 21044, 27688, 7222, 8, 9240, 22423, 741, 45931, 4, 1437, 5397, 35, 1437, 32535, 459, 19, 455, 1186, 9, 4298, 4, 1437, 17480, 35, 1437, 27727, 22293, 16, 2055, 176, 7, 5, 235, 2767, 4, 1437, 2927, 31867, 4885, 5622, 540, 87, 80, 2397, 7, 70, 5, 15769, 9, 5, 235, 2767, 4, 1437, 44266, 1635, 35, 1437, 117, 765, 1825, 9, 8016, 4, 1437, 11721, 13300, 366, 1071, 43669, 35, 1437, 5, 3186, 34, 10, 204, 12, 5471, 9801, 31345, 784, 11937, 1258, 7, 5, 299, 9, 5, 235, 2767, 8, 59, 5, 443, 9, 5, 1084, 2767, 4, 1437, 89, 16, 117, 31966, 1093, 809, 6, 117, 1093, 809, 16, 7133, 1538, 4, 1437, 89, 16, 117, 2171, 13162, 6, 89, 16, 117, 4924, 6635, 25671, 8, 1819, 117, 4924, 3805, 1790, 6, 9013, 6, 8698, 6, 17358, 6, 50, 9048, 4, 1437, 24, 2092, 14, 5, 784, 11937, 1258, 189, 33, 295, 14851, 10, 650, 15747, 636, 3876, 22090, 6, 61, 74, 33, 9521, 13, 5, 19351, 87, 4505, 13162, 14, 855, 2756, 23, 184, 4, 1437, 5, 3186, 473, 45, 33, 143, 8780, 1825, 7, 5, 2767, 4, 1437, 5, 3186, 34, 455, 1186, 9, 4298, 7, 70, 5, 24944, 6, 70, 5, 21565, 6, 25, 157, 25, 5, 35713, 4, 1437, 5, 3186, 13569, 15719, 157, 396, 143, 9600, 50, 19535, 4, 1437, 89, 32, 117, 97, 1746, 1581, 7, 5, 1079, 9, 5, 809, 4, 1437, 3024, 35, 1437, 5, 204, 12, 5471, 9801, 31345, 784, 11937, 1258, 7, 5, 235, 2767, 25, 1433, 1602, 4, 1437, 117, 97, 1746, 32, 1581, 4, 1437, 31649, 636, 35, 1437, 4243, 16, 195, 73, 245, 7, 70, 5, 8698, 1134, 9, 5, 235, 795, 34867, 1571, 4, 1437, 30008, 16, 13762, 7, 1109, 2842, 7, 70, 5, 27348, 9898, 9, 5, 235, 2767, 4, 1437, 5, 3186, 34, 2340, 1901, 8, 2340, 13569, 11264, 4, 1437, 20449, 35, 1437, 5, 3186, 16, 5439, 8, 28094, 3023, 306, 4, 1437, 2340, 6711, 8, 3327, 4, 1437, 37, 9244, 26374, 73, 352, 17055, 5183, 35, 1437, 117, 2171, 13162, 16, 14196, 23, 42, 86, 4, 1437, 117, 1283, 9, 26693, 16, 1581, 7, 5, 809, 482, 17615, 29377, 1494, 768, 46686, 1437, 5, 3186, 56, 25465, 1021, 2544, 1757, 8, 10, 1971, 1580, 5049, 7, 39, 2767, 482, 37445, 18575, 46686, 134, 4, 1437, 10, 204, 12, 5471, 784, 11937, 1258, 7, 5, 235, 2767, 482, 176, 4, 1437, 13827, 235, 2767, 2400, 6, 122, 8179, 482, 27503, 2115, 31779, 35, 2156, 4375, 482, 7779, 14413, 46686, 1437, 7, 184, 4, 1437, 5, 3186, 21, 576, 15462, 9223, 15, 7725, 575, 8, 553, 7, 671, 7, 1923, 929, 197, 37, 33, 143, 1283, 50, 2434, 8, 5298, 9, 7910, 4, 1437, 5, 3186, 2], 'attention_mask': [1, 1, 1, 1, 1, 1, 1, 1, 1, 1, 1, 1, 1, 1, 1, 1, 1, 1, 1, 1, 1, 1, 1, 1, 1, 1, 1, 1, 1, 1, 1, 1, 1, 1, 1, 1, 1, 1, 1, 1, 1, 1, 1, 1, 1, 1, 1, 1, 1, 1, 1, 1, 1, 1, 1, 1, 1, 1, 1, 1, 1, 1, 1, 1, 1, 1, 1, 1, 1, 1, 1, 1, 1, 1, 1, 1, 1, 1, 1, 1, 1, 1, 1, 1, 1, 1, 1, 1, 1, 1, 1, 1, 1, 1, 1, 1, 1, 1, 1, 1, 1, 1, 1, 1, 1, 1, 1, 1, 1, 1, 1, 1, 1, 1, 1, 1, 1, 1, 1, 1, 1, 1, 1, 1, 1, 1, 1, 1, 1, 1, 1, 1, 1, 1, 1, 1, 1, 1, 1, 1, 1, 1, 1, 1, 1, 1, 1, 1, 1, 1, 1, 1, 1, 1, 1, 1, 1, 1, 1, 1, 1, 1, 1, 1, 1, 1, 1, 1, 1, 1, 1, 1, 1, 1, 1, 1, 1, 1, 1, 1, 1, 1, 1, 1, 1, 1, 1, 1, 1, 1, 1, 1, 1, 1, 1, 1, 1, 1, 1, 1, 1, 1, 1, 1, 1, 1, 1, 1, 1, 1, 1, 1, 1, 1, 1, 1, 1, 1, 1, 1, 1, 1, 1, 1, 1, 1, 1, 1, 1, 1, 1, 1, 1, 1, 1, 1, 1, 1, 1, 1, 1, 1, 1, 1, 1, 1, 1, 1, 1, 1, 1, 1, 1, 1, 1, 1, 1, 1, 1, 1, 1, 1, 1, 1, 1, 1, 1, 1, 1, 1, 1, 1, 1, 1, 1, 1, 1, 1, 1, 1, 1, 1, 1, 1, 1, 1, 1, 1, 1, 1, 1, 1, 1, 1, 1, 1, 1, 1, 1, 1, 1, 1, 1, 1, 1, 1, 1, 1, 1, 1, 1, 1, 1, 1, 1, 1, 1, 1, 1, 1, 1, 1, 1, 1, 1, 1, 1, 1, 1, 1, 1, 1, 1, 1, 1, 1, 1, 1, 1, 1, 1, 1, 1, 1, 1, 1, 1, 1, 1, 1, 1, 1, 1, 1, 1, 1, 1, 1, 1, 1, 1, 1, 1, 1, 1, 1, 1, 1, 1, 1, 1, 1, 1, 1, 1, 1, 1, 1, 1, 1, 1, 1, 1, 1, 1, 1, 1, 1, 1, 1, 1, 1, 1, 1, 1, 1, 1, 1, 1, 1, 1, 1, 1, 1, 1, 1, 1, 1, 1, 1, 1, 1, 1, 1, 1, 1, 1, 1, 1, 1, 1, 1, 1, 1, 1, 1, 1, 1, 1, 1, 1, 1, 1, 1, 1, 1, 1, 1, 1, 1, 1, 1, 1, 1, 1, 1, 1, 1, 1, 1, 1, 1, 1, 1, 1, 1, 1, 1, 1, 1, 1, 1, 1, 1, 1, 1, 1, 1, 1, 1, 1, 1, 1, 1, 1, 1, 1, 1, 1, 1, 1, 1, 1, 1, 1, 1, 1, 1, 1, 1, 1, 1, 1, 1, 1, 1, 1, 1, 1, 1, 1, 1, 1, 1, 1, 1, 1, 1, 1, 1, 1, 1, 1, 1, 1, 1, 1, 1, 1, 1, 1, 1, 1, 1, 1, 1, 1, 1, 1, 1, 1, 1, 1, 1, 1, 1, 1, 1, 1, 1, 1, 1, 1, 1, 1, 1, 1, 1, 1, 1, 1, 1, 1, 1, 1, 1, 1, 1, 1, 1, 1, 1, 1, 1, 1, 1, 1, 1, 1, 1, 1, 1, 1, 1, 1, 1, 1, 1, 1, 1, 1, 1, 1, 1, 1, 1, 1, 1, 1, 1, 1, 1, 1, 1, 1, 1, 1, 1, 1, 1, 1, 1, 1, 1, 1, 1, 1, 1, 1, 1, 1, 1, 1, 1, 1, 1, 1, 1, 1, 1, 1, 1, 1, 1, 1, 1, 1, 1, 1, 1, 1, 1, 1, 1, 1, 1, 1, 1, 1, 1, 1, 1, 1, 1, 1, 1, 1, 1, 1, 1, 1, 1, 1, 1, 1, 1, 1, 1, 1, 1, 1, 1, 1, 1, 1, 1, 1, 1, 1, 1, 1, 1, 1, 1, 1, 1, 1, 1, 1, 1, 1, 1, 1, 1, 1, 1, 1, 1, 1, 1, 1, 1, 1, 1, 1, 1, 1, 1, 1, 1, 1, 1, 1, 1, 1, 1, 1, 1, 1, 1, 1, 1, 1, 1, 1, 1, 1, 1, 1, 1, 1, 1, 1, 1, 1, 1, 1, 1, 1, 1, 1, 1, 1, 1, 1, 1, 1, 1, 1, 1, 1, 1, 1, 1, 1, 1, 1, 1, 1, 1]}"
            ]
          },
          "metadata": {},
          "execution_count": 47
        }
      ]
    },
    {
      "cell_type": "code",
      "source": [
        "df_res['Predicted'] = df_res['Predicted'].apply(lambda x: x[0])\n",
        "print(df_res['keywords'].iloc[0])\n",
        "print(df_res['Predicted'].iloc[0])"
      ],
      "metadata": {
        "colab": {
          "base_uri": "https://localhost:8080/"
        },
        "id": "gza8TgWMQ_g2",
        "outputId": "1d8df5cd-d711-407b-928b-acc928ec7ba5"
      },
      "execution_count": 48,
      "outputs": [
        {
          "output_type": "stream",
          "name": "stdout",
          "text": [
            "emergency room reports, foot pain, cut on foot, piece of glass, foreign body, active bleeding, foot, injuries, atraumatic, laceration, bleeding, body, \n",
            "orthopedic, cut on foot, bursitis, metzenbaum scissors, cortisone shot, radicose vein, extremity, femoral artery, subluxation, subcutaneous, subcarinal, extremities, foot, lacerationNOTE,: Thesetranscribed medical transcription sample reports and examples are provided by various users andare for reference purpose only. MTHelpLine does not certify accuracy and quality of sample reports\n"
          ]
        }
      ]
    },
    {
      "cell_type": "code",
      "source": [
        "df_res.head()"
      ],
      "metadata": {
        "colab": {
          "base_uri": "https://localhost:8080/",
          "height": 293
        },
        "id": "gmZ_mB_7RFFe",
        "outputId": "290b9325-a1d2-4ec6-b26b-2512cf3c0038"
      },
      "execution_count": 49,
      "outputs": [
        {
          "output_type": "execute_result",
          "data": {
            "text/plain": [
              "                                    transcription_lower  \\\n",
              "3863  chief complaint:,  cut on foot.,history of pre...   \n",
              "4703  preoperative diagnosis:,  large recurrent righ...   \n",
              "1918  title of operation:,  mediastinal exploration ...   \n",
              "3696  preoperative diagnoses:,1.  ventilator-depende...   \n",
              "1140  preoperative diagnosis: , breast mass, left.,p...   \n",
              "\n",
              "                                               keywords  \\\n",
              "3863  emergency room reports, foot pain, cut on foot...   \n",
              "4703  cardiovascular / pulmonary, chest tube talc pl...   \n",
              "1918  pediatrics - neonatal, mediastinal exploration...   \n",
              "3696  ent - otolaryngology, ventilator-dependent res...   \n",
              "1140  surgery, breast mass excision, freely mobile, ...   \n",
              "\n",
              "                                              Predicted  \n",
              "3863  orthopedic, cut on foot, bursitis, metzenbaum ...  \n",
              "4703  cardiovascular / pulmonary, chest tube talc pl...  \n",
              "1918  cardiovascular / pulmonary, sano modification,...  \n",
              "3696  ent - otolaryngology, ventilator dependent res...  \n",
              "1140  obstetrics / gynecology, breast mass, excision...  "
            ],
            "text/html": [
              "\n",
              "  <div id=\"df-90383a4b-c37d-4fe6-b6f3-51a4b3ea47eb\" class=\"colab-df-container\">\n",
              "    <div>\n",
              "<style scoped>\n",
              "    .dataframe tbody tr th:only-of-type {\n",
              "        vertical-align: middle;\n",
              "    }\n",
              "\n",
              "    .dataframe tbody tr th {\n",
              "        vertical-align: top;\n",
              "    }\n",
              "\n",
              "    .dataframe thead th {\n",
              "        text-align: right;\n",
              "    }\n",
              "</style>\n",
              "<table border=\"1\" class=\"dataframe\">\n",
              "  <thead>\n",
              "    <tr style=\"text-align: right;\">\n",
              "      <th></th>\n",
              "      <th>transcription_lower</th>\n",
              "      <th>keywords</th>\n",
              "      <th>Predicted</th>\n",
              "    </tr>\n",
              "  </thead>\n",
              "  <tbody>\n",
              "    <tr>\n",
              "      <th>3863</th>\n",
              "      <td>chief complaint:,  cut on foot.,history of pre...</td>\n",
              "      <td>emergency room reports, foot pain, cut on foot...</td>\n",
              "      <td>orthopedic, cut on foot, bursitis, metzenbaum ...</td>\n",
              "    </tr>\n",
              "    <tr>\n",
              "      <th>4703</th>\n",
              "      <td>preoperative diagnosis:,  large recurrent righ...</td>\n",
              "      <td>cardiovascular / pulmonary, chest tube talc pl...</td>\n",
              "      <td>cardiovascular / pulmonary, chest tube talc pl...</td>\n",
              "    </tr>\n",
              "    <tr>\n",
              "      <th>1918</th>\n",
              "      <td>title of operation:,  mediastinal exploration ...</td>\n",
              "      <td>pediatrics - neonatal, mediastinal exploration...</td>\n",
              "      <td>cardiovascular / pulmonary, sano modification,...</td>\n",
              "    </tr>\n",
              "    <tr>\n",
              "      <th>3696</th>\n",
              "      <td>preoperative diagnoses:,1.  ventilator-depende...</td>\n",
              "      <td>ent - otolaryngology, ventilator-dependent res...</td>\n",
              "      <td>ent - otolaryngology, ventilator dependent res...</td>\n",
              "    </tr>\n",
              "    <tr>\n",
              "      <th>1140</th>\n",
              "      <td>preoperative diagnosis: , breast mass, left.,p...</td>\n",
              "      <td>surgery, breast mass excision, freely mobile, ...</td>\n",
              "      <td>obstetrics / gynecology, breast mass, excision...</td>\n",
              "    </tr>\n",
              "  </tbody>\n",
              "</table>\n",
              "</div>\n",
              "    <div class=\"colab-df-buttons\">\n",
              "\n",
              "  <div class=\"colab-df-container\">\n",
              "    <button class=\"colab-df-convert\" onclick=\"convertToInteractive('df-90383a4b-c37d-4fe6-b6f3-51a4b3ea47eb')\"\n",
              "            title=\"Convert this dataframe to an interactive table.\"\n",
              "            style=\"display:none;\">\n",
              "\n",
              "  <svg xmlns=\"http://www.w3.org/2000/svg\" height=\"24px\" viewBox=\"0 -960 960 960\">\n",
              "    <path d=\"M120-120v-720h720v720H120Zm60-500h600v-160H180v160Zm220 220h160v-160H400v160Zm0 220h160v-160H400v160ZM180-400h160v-160H180v160Zm440 0h160v-160H620v160ZM180-180h160v-160H180v160Zm440 0h160v-160H620v160Z\"/>\n",
              "  </svg>\n",
              "    </button>\n",
              "\n",
              "  <style>\n",
              "    .colab-df-container {\n",
              "      display:flex;\n",
              "      gap: 12px;\n",
              "    }\n",
              "\n",
              "    .colab-df-convert {\n",
              "      background-color: #E8F0FE;\n",
              "      border: none;\n",
              "      border-radius: 50%;\n",
              "      cursor: pointer;\n",
              "      display: none;\n",
              "      fill: #1967D2;\n",
              "      height: 32px;\n",
              "      padding: 0 0 0 0;\n",
              "      width: 32px;\n",
              "    }\n",
              "\n",
              "    .colab-df-convert:hover {\n",
              "      background-color: #E2EBFA;\n",
              "      box-shadow: 0px 1px 2px rgba(60, 64, 67, 0.3), 0px 1px 3px 1px rgba(60, 64, 67, 0.15);\n",
              "      fill: #174EA6;\n",
              "    }\n",
              "\n",
              "    .colab-df-buttons div {\n",
              "      margin-bottom: 4px;\n",
              "    }\n",
              "\n",
              "    [theme=dark] .colab-df-convert {\n",
              "      background-color: #3B4455;\n",
              "      fill: #D2E3FC;\n",
              "    }\n",
              "\n",
              "    [theme=dark] .colab-df-convert:hover {\n",
              "      background-color: #434B5C;\n",
              "      box-shadow: 0px 1px 3px 1px rgba(0, 0, 0, 0.15);\n",
              "      filter: drop-shadow(0px 1px 2px rgba(0, 0, 0, 0.3));\n",
              "      fill: #FFFFFF;\n",
              "    }\n",
              "  </style>\n",
              "\n",
              "    <script>\n",
              "      const buttonEl =\n",
              "        document.querySelector('#df-90383a4b-c37d-4fe6-b6f3-51a4b3ea47eb button.colab-df-convert');\n",
              "      buttonEl.style.display =\n",
              "        google.colab.kernel.accessAllowed ? 'block' : 'none';\n",
              "\n",
              "      async function convertToInteractive(key) {\n",
              "        const element = document.querySelector('#df-90383a4b-c37d-4fe6-b6f3-51a4b3ea47eb');\n",
              "        const dataTable =\n",
              "          await google.colab.kernel.invokeFunction('convertToInteractive',\n",
              "                                                    [key], {});\n",
              "        if (!dataTable) return;\n",
              "\n",
              "        const docLinkHtml = 'Like what you see? Visit the ' +\n",
              "          '<a target=\"_blank\" href=https://colab.research.google.com/notebooks/data_table.ipynb>data table notebook</a>'\n",
              "          + ' to learn more about interactive tables.';\n",
              "        element.innerHTML = '';\n",
              "        dataTable['output_type'] = 'display_data';\n",
              "        await google.colab.output.renderOutput(dataTable, element);\n",
              "        const docLink = document.createElement('div');\n",
              "        docLink.innerHTML = docLinkHtml;\n",
              "        element.appendChild(docLink);\n",
              "      }\n",
              "    </script>\n",
              "  </div>\n",
              "\n",
              "\n",
              "<div id=\"df-83930655-13ab-4e1e-9524-5bcd2b4522c4\">\n",
              "  <button class=\"colab-df-quickchart\" onclick=\"quickchart('df-83930655-13ab-4e1e-9524-5bcd2b4522c4')\"\n",
              "            title=\"Suggest charts\"\n",
              "            style=\"display:none;\">\n",
              "\n",
              "<svg xmlns=\"http://www.w3.org/2000/svg\" height=\"24px\"viewBox=\"0 0 24 24\"\n",
              "     width=\"24px\">\n",
              "    <g>\n",
              "        <path d=\"M19 3H5c-1.1 0-2 .9-2 2v14c0 1.1.9 2 2 2h14c1.1 0 2-.9 2-2V5c0-1.1-.9-2-2-2zM9 17H7v-7h2v7zm4 0h-2V7h2v10zm4 0h-2v-4h2v4z\"/>\n",
              "    </g>\n",
              "</svg>\n",
              "  </button>\n",
              "\n",
              "<style>\n",
              "  .colab-df-quickchart {\n",
              "      --bg-color: #E8F0FE;\n",
              "      --fill-color: #1967D2;\n",
              "      --hover-bg-color: #E2EBFA;\n",
              "      --hover-fill-color: #174EA6;\n",
              "      --disabled-fill-color: #AAA;\n",
              "      --disabled-bg-color: #DDD;\n",
              "  }\n",
              "\n",
              "  [theme=dark] .colab-df-quickchart {\n",
              "      --bg-color: #3B4455;\n",
              "      --fill-color: #D2E3FC;\n",
              "      --hover-bg-color: #434B5C;\n",
              "      --hover-fill-color: #FFFFFF;\n",
              "      --disabled-bg-color: #3B4455;\n",
              "      --disabled-fill-color: #666;\n",
              "  }\n",
              "\n",
              "  .colab-df-quickchart {\n",
              "    background-color: var(--bg-color);\n",
              "    border: none;\n",
              "    border-radius: 50%;\n",
              "    cursor: pointer;\n",
              "    display: none;\n",
              "    fill: var(--fill-color);\n",
              "    height: 32px;\n",
              "    padding: 0;\n",
              "    width: 32px;\n",
              "  }\n",
              "\n",
              "  .colab-df-quickchart:hover {\n",
              "    background-color: var(--hover-bg-color);\n",
              "    box-shadow: 0 1px 2px rgba(60, 64, 67, 0.3), 0 1px 3px 1px rgba(60, 64, 67, 0.15);\n",
              "    fill: var(--button-hover-fill-color);\n",
              "  }\n",
              "\n",
              "  .colab-df-quickchart-complete:disabled,\n",
              "  .colab-df-quickchart-complete:disabled:hover {\n",
              "    background-color: var(--disabled-bg-color);\n",
              "    fill: var(--disabled-fill-color);\n",
              "    box-shadow: none;\n",
              "  }\n",
              "\n",
              "  .colab-df-spinner {\n",
              "    border: 2px solid var(--fill-color);\n",
              "    border-color: transparent;\n",
              "    border-bottom-color: var(--fill-color);\n",
              "    animation:\n",
              "      spin 1s steps(1) infinite;\n",
              "  }\n",
              "\n",
              "  @keyframes spin {\n",
              "    0% {\n",
              "      border-color: transparent;\n",
              "      border-bottom-color: var(--fill-color);\n",
              "      border-left-color: var(--fill-color);\n",
              "    }\n",
              "    20% {\n",
              "      border-color: transparent;\n",
              "      border-left-color: var(--fill-color);\n",
              "      border-top-color: var(--fill-color);\n",
              "    }\n",
              "    30% {\n",
              "      border-color: transparent;\n",
              "      border-left-color: var(--fill-color);\n",
              "      border-top-color: var(--fill-color);\n",
              "      border-right-color: var(--fill-color);\n",
              "    }\n",
              "    40% {\n",
              "      border-color: transparent;\n",
              "      border-right-color: var(--fill-color);\n",
              "      border-top-color: var(--fill-color);\n",
              "    }\n",
              "    60% {\n",
              "      border-color: transparent;\n",
              "      border-right-color: var(--fill-color);\n",
              "    }\n",
              "    80% {\n",
              "      border-color: transparent;\n",
              "      border-right-color: var(--fill-color);\n",
              "      border-bottom-color: var(--fill-color);\n",
              "    }\n",
              "    90% {\n",
              "      border-color: transparent;\n",
              "      border-bottom-color: var(--fill-color);\n",
              "    }\n",
              "  }\n",
              "</style>\n",
              "\n",
              "  <script>\n",
              "    async function quickchart(key) {\n",
              "      const quickchartButtonEl =\n",
              "        document.querySelector('#' + key + ' button');\n",
              "      quickchartButtonEl.disabled = true;  // To prevent multiple clicks.\n",
              "      quickchartButtonEl.classList.add('colab-df-spinner');\n",
              "      try {\n",
              "        const charts = await google.colab.kernel.invokeFunction(\n",
              "            'suggestCharts', [key], {});\n",
              "      } catch (error) {\n",
              "        console.error('Error during call to suggestCharts:', error);\n",
              "      }\n",
              "      quickchartButtonEl.classList.remove('colab-df-spinner');\n",
              "      quickchartButtonEl.classList.add('colab-df-quickchart-complete');\n",
              "    }\n",
              "    (() => {\n",
              "      let quickchartButtonEl =\n",
              "        document.querySelector('#df-83930655-13ab-4e1e-9524-5bcd2b4522c4 button');\n",
              "      quickchartButtonEl.style.display =\n",
              "        google.colab.kernel.accessAllowed ? 'block' : 'none';\n",
              "    })();\n",
              "  </script>\n",
              "</div>\n",
              "\n",
              "    </div>\n",
              "  </div>\n"
            ]
          },
          "metadata": {},
          "execution_count": 49
        }
      ]
    },
    {
      "cell_type": "code",
      "source": [
        "for i in range(10):\n",
        "\n",
        "    print(f\"Row no {i+1}\")\n",
        "    print(\"Transcription:\")\n",
        "    print(df_res['transcription_lower'].iloc[i])\n",
        "    print(\"\\n\")\n",
        "    print(\"Keywords:\")\n",
        "    print(df_res['keywords'].iloc[i])\n",
        "    print(\"\\n\")\n",
        "    print(\"Predicted Keywords:\")\n",
        "    print(df_res['Predicted'].iloc[i])\n",
        "    print(\"\\n\")"
      ],
      "metadata": {
        "colab": {
          "base_uri": "https://localhost:8080/"
        },
        "id": "ZV9nF5r9RK6A",
        "outputId": "6e3775c4-8e56-475d-82c0-48a96514777c"
      },
      "execution_count": 50,
      "outputs": [
        {
          "output_type": "stream",
          "name": "stdout",
          "text": [
            "Row no 1\n",
            "Transcription:\n",
            "chief complaint:,  cut on foot.,history of present illness:,  this is a 32-year-old male who had a piece of glass fall on to his right foot today.  the patient was concerned because of the amount of bleeding that occurred with it.  the bleeding has been stopped and the patient does not have any pain.  the patient has normal use of his foot, there is no numbness or weakness, the patient is able to ambulate well without any discomfort.  the patient denies any injuries to any other portion of his body.  he has not had any recent illness.  the patient has no other problems or complaints.,past medical history:,  asthma.,current medication: , albuterol.,allergies:,  no known drug allergies.,social history: , the patient is a smoker.,physical examination:,  vital signs:  temperature 98.8 oral, blood pressure 132/86, pulse is 76, and respirations 16.  oxygen saturation is 100% on room air and interpreted as normal.  constitutional:  the patient is well-nourished, well-developed, the patient appears to be healthy.  the patient is calm and comfortable in no acute distress and looks well.  the patient is pleasant and cooperative.  heent:  head is atraumatic, normocephalic, and nontender.  eyes are normal with clear conjunctiva and cornea bilaterally.  neck:  supple with full range of motion.  cardiovascular:  peripheral pulse is +2 to the right foot.  capillary refills less than two seconds to all the digits of the right foot.  respirations:  no shortness of breath.  musculoskeletal:  the patient has a 4-mm partial thickness laceration to the top of the right foot and about the area of the mid foot.  there is no palpable foreign body, no foreign body is visualized.  there is no active bleeding, there is no exposed deeper tissues and certainly no exposed tendons, bone, muscle, nerves, or vessels.  it appears that the laceration may have nicked a small varicose vein, which would have accounted for the heavier than usual bleeding that currently occurred at home.  the patient does not have any tenderness to the foot.  the patient has full range of motion to all the joints, all the toes, as well as the ankles.  the patient ambulates well without any difficulty or discomfort.  there are no other injuries noted to the rest of the body.  skin:  the 4-mm partial thickness laceration to the right foot as previously described.  no other injuries are noted.  neurologic:  motor is 5/5 to all the muscle groups of the right lower extremity.  sensory is intact to light touch to all the dermatomes of the right foot.  the patient has normal speech and normal ambulation.  psychiatric:  the patient is alert and oriented x4.  normal mood and affect.  hematologic/lymphatic:  no active bleeding is occurring at this time.  no evidence of bruising is noted to the body.,emergency department course:,  the patient had antibiotic ointment and a bandage applied to his foot.,diagnoses:,1.  a 4-mm laceration to the right foot.,2.  acute right foot pain, now resolved.,condition upon disposition: , stable.,disposition:,  to home.  the patient was given discharge instructions on wound care and asked to return to emergency room should he have any evidence or signs and symptoms of infection.  the patient was precautioned that there may still be a small piece of glass retained in the foot and that there is a possibility of infection or that the piece of glass may be extruded later on.\n",
            "\n",
            "\n",
            "Keywords:\n",
            "emergency room reports, foot pain, cut on foot, piece of glass, foreign body, active bleeding, foot, injuries, atraumatic, laceration, bleeding, body, \n",
            "\n",
            "\n",
            "Predicted Keywords:\n",
            "orthopedic, cut on foot, bursitis, metzenbaum scissors, cortisone shot, radicose vein, extremity, femoral artery, subluxation, subcutaneous, subcarinal, extremities, foot, lacerationNOTE,: Thesetranscribed medical transcription sample reports and examples are provided by various users andare for reference purpose only. MTHelpLine does not certify accuracy and quality of sample reports\n",
            "\n",
            "\n",
            "Row no 2\n",
            "Transcription:\n",
            "preoperative diagnosis:,  large recurrent right pleural effusion.,postoperative diagnosis:,  large recurrent right pleural effusion.,procedure:,1.  conscious sedation.,2.  chest tube talc pleurodesis of the right chest.,indications: , the patient is a 65-year-old lady with a history of cirrhosis who has developed a recurrent large right pleural effusion.  chest catheter had been placed previously, and she had been draining up to 1.5 liters of serous fluid a day.  eventually, this has decreased and a talc pleurodesis is being done to see her pleural effusion does not recur.,specimens:,  none.,estimated blood loss: , zero.,narrative:,  after obtaining informed consent from the patient and her daughter, the patient was assessed and found to be in good condition and a good candidate for conscious sedation.  vital signs were taken.  these were stable, so the patient was then given initially 0.5 mg of versed and 2 mg of morphine iv.  after a couple of minutes, she was assessed and found to be awake but calm, so then the chest tube was clamped and then through the chest tube a solution of 120 ml of normal saline containing 5 g of talc and 40 mg of lidocaine were then put into her right chest taking care that no air would go in to create a pneumothorax.  she was then laid on her left lateral decubitus position for 5 minutes and then turned into the right lateral decubitus position for 5 minutes and then the chest tube was unclamped.  the patient was given additional 0.5 mg of versed and 0.5 mg of dilaudid iv achieving a state where the patient was comfortable but readily responsive.  the patient tolerated the procedure well.  she did complain of up to a 7/10 pain, but quickly this was brought under control.  the chest tube was unclamped.  now, the patient will be left to rest and she will get a chest x-ray in the morning.\n",
            "\n",
            "\n",
            "Keywords:\n",
            "cardiovascular / pulmonary, chest tube talc pleurodesis, lateral decubitus position, decubitus position, talc pleurodesis, pleural effusion, chest tube, chest, pleurodesis, talc, recurrent, pleural, effusion, tube\n",
            "\n",
            "\n",
            "Predicted Keywords:\n",
            "cardiovascular / pulmonary, chest tube talc pleurodesis, pleural effusion, talc, pleur, thoracic, pneumothorax, bronchospastic, chest, pleursis, decubitus position, pleuredesisNOTE,: Thesetranscribed medical transcription sample reports and examples are provided by various users andare for reference purpose only. MTHelpLine does not certify accuracy and quality of sample reports\n",
            "\n",
            "\n",
            "Row no 3\n",
            "Transcription:\n",
            "title of operation:,  mediastinal exploration and delayed primary chest closure.,indication for surgery:,  the patient is a 12-day-old infant who has undergone a modified stage i norwood procedure with a sano modification.  the patient experienced an unexplained cardiac arrest at the completion of the procedure, which required institution of extracorporeal membrane oxygenation for more than two hours following discontinuation of cardiopulmonary bypass.  the patient has been successfully resuscitated with extracorporeal membrane oxygenation and was decannulated 48 hours ago.  she did not meet the criteria for delayed primary chest closure.,preop diagnosis: , open chest status post modified stage i norwood procedure.,postop diagnosis: , open chest status post modified stage i norwood procedure.,anesthesia:,  general endotracheal.,complications:,  none.,findings: , no evidence of intramediastinal purulence or hematoma.  at completion of the procedure no major changes in hemodynamic performance.,details of the procedure: , after obtaining informed consent, the patient was brought to the room, placed on the operating room table in supine position.  following the administration of general endotracheal anesthesia, the chest was prepped and draped in the usual sterile fashion and all the chest drains were removed.  the chest was then prepped and draped in the usual sterile fashion and previously placed segmental alloderm was removed.  the mediastinum was then thoroughly irrigated with diluted antibiotic irrigation and both pleural cavities suctioned.  through a separate incision and another 15-french blake drain was inserted and small titanium clips were utilized to mark the rightward aspect of the rv-pa connection as well as inferior most aspect of the ventriculotomy.  the pleural spaces were opened widely and the sternum was then spilled with vancomycin paste and closed the sternum with steel wires.  the subcutaneous tissue and skin were closed in layers.  there was no evidence of significant increase in central venous pressure or desaturation.  the patient tolerated the procedure well.  sponge and needle counts were correct times 2 at the end of the procedure.  the patient was transferred to the pediatric intensive care unit shortly thereafter in critical but stable condition.,i was the surgical attending present in the operating room in charge of the surgical  procedure throughout the entire length of the case.\n",
            "\n",
            "\n",
            "Keywords:\n",
            "pediatrics - neonatal, mediastinal exploration, delayed primary chest closure, extracorporeal membrane oxygenation, stage i norwood procedure, sano modification, chest closure, infant, mediastinal, exploration, closure, endotracheal, chest\n",
            "\n",
            "\n",
            "Predicted Keywords:\n",
            "cardiovascular / pulmonary, sano modification, ventriculotomy, mediastinal exploration and delayed primary chest closure, sanow modification, norwood procedure, catgastric tube, sanos modification, diapulmonary bypass, extracorporeal membrane oxygenation, membrane anesthesia, membrane, endotracheal, endotralotomy, pleural, tubes, ventricular, tubesNOTE,: Thesetranscribed medical transcription sample reports and examples are\n",
            "\n",
            "\n",
            "Row no 4\n",
            "Transcription:\n",
            "preoperative diagnoses:,1.  ventilator-dependent respiratory failure.,2.  multiple strokes.,postoperative diagnoses:,1.  ventilator-dependent respiratory failure.,2.  multiple strokes.,procedures performed:,1.  tracheostomy.,2.  thyroid isthmusectomy.,anesthesia: , general endotracheal tube.,blood loss: , minimal, less than 25 cc.,indications:,  the patient is a 50-year-old gentleman who presented to the emergency department who had had multiple massive strokes.  he had required ventilator assistance and was transported to the icu setting.  because of the numerous deficits from the stroke, he is expected to have a prolonged ventilatory course and he will be requiring long-term care.,procedure: , after all risks, benefits, and alternatives were discussed with multiple family members in detail, informed consent was obtained.  the patient was brought to the operative suite where he was placed in supine position and general anesthesia was delivered through the existing endotracheal tube.  the neck was then palpated and marked appropriately in the cricoid cartilage sternal notch and thyroid cartilage marked appropriately with felt-tip marker.  the skin was then anesthetized with a mixture of 1% lidocaine and 1:100,000 epinephrine solution.  the patient was prepped and draped in usual fashion.  the surgeons were gowned and gloved.  a vertical skin incision was then made with a #15 blade scalpel extending from approximately two fingerbreadths above the level of the sternum approximately 1 cm above the cricoid cartilage.  blunt dissection was then carried down until the fascia overlying the strap muscles were identified.  at this point, the midline raphe was identified and the strap muscles were separated utilizing the bovie cautery.  once the strap muscles have been identified, palpation was performed to identify any arterial aberration.  a high-riding innominate was not identified.  at this point, it was recognized that the thyroid gland was overlying the trachea could not be mobilized.  therefore, dissection was carried down through to the cricoid cartilage at which point hemostat was advanced underneath the thyroid gland, which was then doubly clamped and ligated with bovie cautery.  suture ligation with #3-0 vicryl was then performed on the thyroid gland in a double interlocking fashion.  this cleared a significant portion of the trachea.  the overlying pretracheal fascia was then cleared with use of pressured forceps as well as bovie cautery.  now, a tracheal hook was placed underneath the cricoid cartilage in order to stabilize the trachea.  the second tracheal ring was identified.  the bovie cautery reduced to create a tracheal window beneath the second tracheal ring that was inferiorly based.  at this point, the anesthetist was appropriately alerted to deflate the endotracheal tube cuff.  the airway was entered and inferior to the base, window was created.  the anesthetist then withdrew the endotracheal tube until the tip of the tube was identified.  at this point, a #8 shiley tracheostomy tube was inserted freely into the tracheal lumen.  the balloon was inflated and the ventilator was attached.  he was immediately noted to have return of the co2 waveform and was ventilating appropriately according to the anesthetist.  now, all surgical retractors were removed.  the baseplate of the tracheostomy tube was sutured to the patient's skin with #2-0 nylon suture.  the tube was further secured around the patient's neck with iv tubing.  finally, a drain sponge was placed.  at this point, procedure was felt to be complete.  the patient was returned to the icu setting in stable condition where a chest x-ray is pending.\n",
            "\n",
            "\n",
            "Keywords:\n",
            "ent - otolaryngology, ventilator-dependent respiratory failure, multiple strokes, thyroid, thyroid isthmusectomy, ventilator dependent, respiratory failure, strap muscles, thyroid gland, endotracheal tube, cricoid cartilage, bovie cautery, tracheostomy, ventilator, strokes, cartilage, tracheal, isthmusectomy\n",
            "\n",
            "\n",
            "Predicted Keywords:\n",
            "ent - otolaryngology, ventilator dependent respiratory failure, thyroid gland, thyroid isthmusectomy tube, endotracheal tube, strap muscles, tracheostomy, ventillator-dependent, respiratory, tubeNOTE,: Thesetranscribed medical transcription sample reports and examples are provided by various users andare for reference purpose only. MTHelpLine does not certify accuracy and quality of sample reports.These transcribed medical medical transcription\n",
            "\n",
            "\n",
            "Row no 5\n",
            "Transcription:\n",
            "preoperative diagnosis: , breast mass, left.,postoperative diagnosis:,  breast mass, left.,procedure:,  excision of left breast mass.,operation: , after obtaining an informed consent, the patient was taken to the operating room where he underwent general endotracheal anesthesia.  the time-out process was followed.  preoperative antibiotic was given.  the patient was prepped and draped in the usual fashion.  the mass was identified adjacent to the left nipple.  it was freely mobile and it did not seem to hold the skin.  an elliptical skin incision was made over the mass and carried down in a pyramidal fashion towards the pectoral fascia.  the whole of specimen including the skin, the mass, and surrounding subcutaneous tissue and fascia were excised en bloc.  hemostasis was achieved with the cautery.  the specimen was sent to pathology and the tissues were closed in layers including a subcuticular suture of monocryl.  a small pressure dressing was applied.,estimated blood loss was minimal and the patient who tolerated the procedure very well was sent to recovery room in satisfactory condition.\n",
            "\n",
            "\n",
            "Keywords:\n",
            "surgery, breast mass excision, freely mobile, breast mass, endotracheal, fascia, specimen,\n",
            "\n",
            "\n",
            "Predicted Keywords:\n",
            "obstetrics / gynecology, breast mass, excision, specimen, specimenNOTE,: Thesetranscribed medical transcription sample reports and examples are provided by various users, some uncommon or unusual formats;this would be due to the preference of the dictating physician. All names and dates have beenchanged (or removed) to keep confidentiality. MTHelpLine does not certify accuracy and quality of sample reports.These transcribed medical transcription medical transcription\n",
            "\n",
            "\n",
            "Row no 6\n",
            "Transcription:\n",
            "procedure in detail: , following a barium enema prep and lidocaine ointment to the rectal vault, perirectal inspection and rectal exam were normal.  the olympus video colonoscope then introduced into the rectum and passed by directed vision to the distal descending colon.  withdrawal notes an otherwise normal descending, rectosigmoid and rectum.  retroflexion noted no abnormality of the internal ring.  no hemorrhoids were noted.  withdrawal from the patient terminated the procedure.\n",
            "\n",
            "\n",
            "Keywords:\n",
            "surgery, flexible sigmoidoscopy, flex sig, colonoscope, olympus video colonoscope, rectumNOTE,: Thesetranscribed medical transcription sample reports and examples are provided by various users andare for reference purpose only. MTHelpLine does not certify accuracy and quality of sample reports.These transcribed medical transcription sample reports may include some uncommon or unusual formats;this would be due to the preference of the dictating physician. All names and dates have beenchanged (or removed) to keep confidentiality. Any resemblance of any type of name or date orplace or anything else to real world is purely incidental.,\n",
            "\n",
            "\n",
            "Predicted Keywords:\n",
            "gastroenterology, barium enema prep, lidocaine ointment, olympus video colonoscope, rectosigmoid, rectum, rectal vault, retroflexion, rectoplasty, rectoligmoid and rectumNOTE,: Thesetranscribed medical transcription sample reports and examples are provided by various users andare for reference purpose only. MTHelpLine does not certify accuracy and quality of sample reports.These transcribed\n",
            "\n",
            "\n",
            "Row no 7\n",
            "Transcription:\n",
            "history:,  the patient is a 46-year-old right-handed gentleman with a past medical history of a left l5-s1 lumbar microdiskectomy in 1998 with complete resolution of left leg symptoms, who now presents with a four-month history of gradual onset of right-sided low back pain with pain radiating down into his buttock and posterior aspect of his right leg into the ankle.  symptoms are worsened by any activity and relieved by rest.  he also feels that when the pain is very severe, he has some subtle right leg weakness.  no left leg symptoms.  no bowel or bladder changes.,on brief examination, full strength in both lower extremities.  no sensory abnormalities.  deep tendon reflexes are 2+ and symmetric at the patellas and absent at both ankles.  positive straight leg raising on the right.,mri of the lumbosacral spine was personally reviewed and reveals a right paracentral disc at l5-s1 encroaching upon the right exiting s1 nerve root.,nerve conduction studies:,  motor and sensory distal latencies, evoked response amplitudes, and conduction velocities are normal in the lower extremities.  the right common peroneal f-wave is minimally prolonged.  the right tibial h reflex is absent.,needle emg:,  needle emg was performed on the right leg, left gastrocnemius medialis muscle, and right lumbosacral paraspinal muscles using a disposable concentric needle.  it revealed spontaneous activity in the right gastrocnemius medialis, gluteus maximus, and lower lumbosacral paraspinal muscles.  there was evidence of chronic denervation in right gastrocnemius medialis and gluteus maximus muscles.,impression: , this electrical study is abnormal.  it reveals an acute right s1 radiculopathy.  there is no evidence for peripheral neuropathy or left or right l5 radiculopathy.,results were discussed with the patient and he is scheduled to follow up with dr. x in the near future.\n",
            "\n",
            "\n",
            "Keywords:\n",
            "radiology, microdiskectomy, needle emg, nerve conduction studies, lumbosacral paraspinal muscles, lumbar microdiskectomy, lower extremities, lumbosacral paraspinal, paraspinal muscles, gluteus maximus, leg symptoms, gastrocnemius medialis, emg/nerve, conduction, lumbosacral, needle, gastrocnemius, medialis, muscles, \n",
            "\n",
            "\n",
            "Predicted Keywords:\n",
            "orthopedic, lumbosacral paraspinal muscles, gastrocnemius medialis, gluteus maximus muscles, radiculopathy, emg, nerve conduction studies, conduction study, needle emg/nerve conduction, paracentral disc, femis and gluteal maximus, gastric needle, femoris, parapinal, muscles, emgs, gastronemitis, medialis/culopathy\n",
            "\n",
            "\n",
            "Row no 8\n",
            "Transcription:\n",
            "preoperative diagnoses: , left elbow fracture dislocation with incarceration of the medial epicondyle with ulnar nerve paresthesias status post closed reduction, attempts 2, right radial shaft fracture with volar apex angulation.,postoperative diagnoses:,  left elbow fracture dislocation with incarceration of the medial epicondyle with ulnar nerve paresthesias status post closed reduction, attempts 2, right radial shaft fracture with volar apex angulation.,procedures:  ,1.  open reduction internal fixation of the left medial epicondyle fracture with placement in a long-arm posterior well-molded splint.,2.  closed reduction casting of the right forearm.,anesthesia: , surgery performed under general anesthesia.  local anesthetic was 10 ml of 0.5% marcaine.,tourniquet time: , on the left was 29 minutes.,complications:  ,there were no intraoperative complications.,drains: , none.,specimens: , none.,history and physical:  ,the patient is a 13-year-old right-hand dominant girl, who fell off a swing at school around 1:30 today.  the patient was initially seen at an outside facility and brought here by her father, given findings on x-ray, a closed reduction was attempted on the left elbow.  after the attempted reduction, the patient was noted to have an incarcerated medial epicondyle fracture as well as increasing ulnar paresthesias that were not present prior to the procedure.  given this finding, the patient needed urgent open reduction and internal fixation to relieve the pressure on the ulnar nerve.  at that same time, the patient's mildly angulated radial shaft fracture will be reduced.  this was explained to the father.  the risks of surgery included the risk of anesthesia, infection, bleeding, changes in sensation and motion of the extremity, hardware failure, need for later hardware removal, and possible continuous nerve symptoms.  all questions were answered.  the father agreed to the above plan.,procedure in detail: , the patient was taken to the operating room and placed supine on the operating room table.  general anesthesia was then administered.  the patient received ancef preoperatively.  the left upper extremity was then prepped and draped in the standard surgical fashion.  attempts to remove the incarcerated medial epicondyle with supination, valgus stress, and with extension were unsuccessful.  it was decided at this time that she would need open reduction.  the arm was wrapped in esmarch prior to inflation of the tourniquet to 250 mmhg.  the esmarch was then removed.  an incision was then made.  care was taken to avoid any injury to the ulnar nerve.  the medial epicondyle fracture was found incarcerated into the anterior aspect of the joint.  this was easily removed.  the ulnar nerve was also identified, and appeared to be intact.  the medial epicondyle was then transfixed using a guidewire into its anatomic position with the outer cortex over drilled with a 3.2 drill bit, and subsequently a 44-mm 4.5 partially threaded cannulated screw was then placed with a washer to hold the medial epicondyle in place.  after fixation of the fragment, the ulnar nerve was visualized as it traveled around the medial epicondyle fracture with no signs of impingement.  the wound was then irrigated with normal saline and closed using 2-0 vicryl and 4-0 monocryl.  the wound was clean and dry, dressed with steri-strips and xeroform.  the area was infiltrated with 0.5% marcaine.  the patient was then placed in a long-arm posterior well-molded splint with 90 degrees of flexion and neutral rotation.  the tourniquet was released at 30 minutes prior to placement of the dressing, showed no significant bleeding.  attention was then turned to right side, the arm was then manipulated and a well-molded long-arm cast placed.  the final position in the cast revealed a very small residual volar apex angulation, which is quite acceptable in this age.  the patient tolerated the procedure well, was subsequently extubated and taken to recovery in a stable condition.,postoperative plan: , the patient will be hospitalized for pain control and neurovascular testing for the next 1 to 2 days.  the father was made aware of the intraoperative findings.  all questions answered.\n",
            "\n",
            "\n",
            "Keywords:\n",
            "surgery, orif, elbow fracture, dislocation, open reduction internal fixation, closed reduction, left medial epicondyle fracture, long-arm posterior well-molded splint, splint, radial shaft fracture, volar apex angulation, medial epicondyle fracture, medial epicondyle, internal fixation, epicondyle fracture, ulnar nerve, epicondyle, fracture, reduction, tourniquet, ulnar, nerve, \n",
            "\n",
            "\n",
            "Predicted Keywords:\n",
            "orthopedic, elbow fracture dislocation, medial epicondyle, ulnar nerve paresthesias, open reduction internal fixation, closed reduction, radial shaft fracture, volar apex angulation, femoral artery, radial blade fracture, femoris long-arm posterior well-molded splint, radial artery, medial inter fixation, fracture, intervertebral, medial, medial ondyle fracture, radial, fracture iliac, medial medial,\n",
            "\n",
            "\n",
            "Row no 9\n",
            "Transcription:\n",
            "history: , the patient is a 4-month-old who presented with respiratory distress and absent femoral pulses with subsequent evaluation including echocardiogram that demonstrated severe coarctation of the aorta with a peak gradient of 29 mmhg and associated dilated cardiomyopathy with fractional shortening of 16%.  a bicuspid aortic valve was also seen without insufficiency or stenosis.  the patient underwent cardiac catheterization for balloon angioplasty for coarctation of the aorta.,procedure:  ,after sedation and general endotracheal anesthesia, the patient was prepped and draped.  cardiac catheterization was performed as outlined in the attached continuation sheets.  vascular entry was by percutaneous technique, and the patient was heparinized.  monitoring during the procedure included continuous surface ecg, continuous pulse oximetry, and cycled cuff blood pressures, in addition to intravascular pressures.,using a percutaneous technique a 4-french 8 cm long double lumen central venous catheter was inserted in the left femoral vein and sutured into place.  there was good blood return from both the ports.,using a 4-french sheath a 4-french wedge catheter was inserted into the right femoral vein and advanced through the right heart structures out to the branch of pulmonary arteries.  the atrial septum was not probe patent.,using a 4-french sheath a 4-french marker pigtail catheter was inserted into the left femoral artery and advanced retrograde to the descending aorta ,ascending aorta and left ventricle.  a descending aortogram demonstrated discrete coarctation of the aorta approximately 8 mm distal to the origin of the left subclavian artery.  the transverse arch measured 5 mm.  isthmus measured 4.7 mm and coarctation measured 2.9 x 1.8 mm at the descending aorta level.  the diaphragm measured 5.6 mm.  the pigtail catheter was exchanged for a wedge catheter, which was then directed into the right innominate artery.  this catheter was exchanged over a wire for a tyshak mini 6 x 2 cm balloon catheter which was advanced across the coarctation and inflated with complete disappearance of discrete waist.  pressure pull-back following angioplasty, however, demonstrated a residual of 15-20 mmhg gradient.  repeat angiogram showed mild improvement in degree of aortic narrowing.  the angioplasty was then performed using a tyshak mini 7 x 2 cm balloon catheter with complete disappearance of mild waist.  the pigtail catheter was then reintroduced for a pressure pull-back measurement and final angiogram.,flows were calculated by the fick technique using an assumed oxygen consumption.,cineangiograms were obtained with injection in the descending aorta.,after angiography, two normal-appearing renal collecting systems were visualized.  the catheters and sheaths were removed and topical pressure applied for hemostasis.  the patient was returned to the pediatric intensive care unit in satisfactory condition.  there were no complications.,discussion: , oxygen consumption was assumed to be normal.  mixed venous saturation was low due to mild systemic arterial desaturation and anemia.  there is no evidence of significant intracardiac shunt.  further the heart was desaturated due to vq mismatch.,phasic right-sided pressures were normal as was the right pulmonary artery capillary wedge pressure with the a-wave similar to the normal left ventricular end-diastolic pressure of 12 mmhg.  left ventricular systolic pressure was mildly increased with a 60 mmhg systolic gradient into the ascending aorta and a 29 mmhg systolic gradient on pressure pull-back to the descending aorta.  the calculated flows were mildly increased.  vascular resistances were normal.  a cineangiogram with contrast injection in the descending aorta showed a normal left aortic arch with normal origins of the brachiocephalic vessels.  there is discrete juxtaductal coarctation of the aorta.  flow within the intercostal arteries was retrograde.  following balloon angioplasty of coarctation of the aorta, there was slight fall in the mixed venous saturation and an increase in systemic arterial saturation as the fall in left ventricular systolic pressure from 99 mmhg to 92 mmhg.  there remained a 4 mmhg systolic gradient into the ascending aorta and 9 mmhg systolic gradient pressure pull-back to the descending aorta.  the calculated systemic flow fell to normal values.  final angiogram with injection in the descending aorta demonstrated improved caliber of coarctation of the aorta with mild intimal irregularity and a small left lateral filling defect consistent with a small intimal tear in the region of the ductus arteriosus.  there is brisk flow in the descending aorta and appropriate flow in the intercostal arteries.  the narrowest diameter of the aorta measured 4.9 x 4.2 mm.,diagnoses:  ,1.  juxtaductal coarctation of the aorta.,2.  dilated cardiomyopathy.,3.  bicuspid aortic valve.,4.  patent foramen ovale.,intervention: , balloon dilation of coarctation of the aorta.,management: , the case will be discussed at combined cardiology and cardiothoracic surgery case conference.  the patient will be allowed to recover from the current intervention with the hopes of complete left ventricular function recovery.  the patient will undoubtedly require formal coarctation of the aorta repair surgically in 4-6 months.  the further cardiologic care will be directed by dr. x.\n",
            "\n",
            "\n",
            "Keywords:\n",
            "surgery, coarctation, juxtaductal, dilated cardiomyopathy, bicuspid aortic valve, patent foramen ovale, catheter was inserted, mmhg systolic gradient, mmhg systolic, systolic gradient, descending aorta, catheterization, mmhg, ventricular, aorta, aortic, foramen,\n",
            "\n",
            "\n",
            "Predicted Keywords:\n",
            "cardiovascular / pulmonary, respiratory distress, ventricle, bicuspid aortic valve, cardiac catheterization, balloon angioplasty, aorta, coronary artery, artery, heart structures, femoral artery, coronary, catheteration, arteryNOTE,: Thesetranscribed medical transcription sample reports and examples are provided by various users andare for reference purpose only. MTHelpLine does not certify accuracy and quality of sample\n",
            "\n",
            "\n",
            "Row no 10\n",
            "Transcription:\n",
            "title of operation:,  bilateral endoscopic proximal shunt revision and a distal shunt revision.,indications for operation:,  headaches, full subtemporal site.,preoperative diagnosis: , slit ventricle syndrome.,postoperative diagnosis: , slit ventricle syndrome.,findings:,  coaptation of ventricles against proximal end of ventricular catheter.,anesthesia: , general endotracheal tube anesthesia.,devices: , a codman hakim programmable valve with portnoy ventricular catheter, a 0/20 progav valve with a shunt assist of 20 cm dual right-angled connector, and a flushing reservoir.,brief narrative of operative procedure:,  after satisfactory general endotracheal tube anesthesia was administered, the patient was positioned on the operating table in the prone position with the head held on a soft foam padding.  the occipital area was shaven bilaterally and then the areas of the prior scalp incisions were infiltrated with 0.25% marcaine with 1:200,000 epinephrine after routine prepping and draping.  both u-shaped scalp incisions were opened exposing both the left and the right ventricular catheters as well as the old low pressure reservoir, which might have been leading to the coaptation of the ventricles.  the patient also had a right subtemporal depression, which was full preoperatively.  the entire old apparatus was dissected out.  we then cut both the ventricular catheters and secured them with sutures so that __________ could be inserted.  they were both inspected.  no definite debris were seen.  after removing the ventricular catheters, the old tracts were inspected and we could see where there was coaptation of the ventricles against the ventricular catheter.  on the right side, we elected to insert the portnoy ventricular catheter and on the left a new bactiseal catheter was inserted underneath the corpus callosum in a different location.  the old valve was dissected out and the progav valve with a 2-0 shunt assist was inserted and secured with a 2-0 ethibond suture.  the progav valve was then connected to a bactiseal distal tubing, which was looped in a cephalad way and then curved towards the left burr hole site and then the portnoy catheter on the right was secured with a right-angled sleeve and then interposed between it and the left burr hole site with a flushing reservoir.  all connections secured with 2-0 ethibond suture and a small piece of bactiseal tubing between the flushing reservoir and the connector, which secured the left bactiseal tubing to the two other bactiseal tubings one being the distal bactiseal tubing going towards the progav valve, which was set to an opening pressure of 8 and the other one being the bactiseal tubing, which was going towards the flushing reservoir.,all the wounds were irrigated out with bacitracin and then closed in a routine manner using vicryl for the deep layers and monocryl for the skin, followed by mastisol and steri-strips.  the patient tolerated the procedure well without complications.  csf was not sent off.\n",
            "\n",
            "\n",
            "Keywords:\n",
            "neurosurgery, codman hakim, portnoy, slit ventricle syndrome, shunt revision, bilateral endoscopic proximal shunt, coaptation of the ventricles, portnoy ventricular catheter, ventricular catheter, progav valve, flushing reservoir, bactiseal tubing, shunt, ventricular, bactiseal\n",
            "\n",
            "\n",
            "Predicted Keywords:\n",
            "cardiovascular / pulmonary, ventricle syndrome, ventricular catheter, endoscopic proximal shunt revision, catheterNOTE,: Thesetranscribed medical transcription sample reports and examples are provided by various users andare for reference purpose only. MTHelpLine does not certify accuracy and quality of sample reports.These transcribed medical transcription samples may include some uncommon or unusual formats;this would be due to the preference of the dictating physician. All names and dates\n",
            "\n",
            "\n"
          ]
        }
      ]
    }
  ]
}